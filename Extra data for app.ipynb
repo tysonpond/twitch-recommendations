{
 "cells": [
  {
   "cell_type": "markdown",
   "metadata": {},
   "source": [
    "For the app we'll display\n",
    "1. Ranking\n",
    "2. Streamer name\n",
    "3. Streamer image (as of the date the data was collected)\n",
    "4. Number of followers (as of the date the data was collected)\n",
    "5. Primary game/category\n",
    "6. Secondary game/category\n",
    "\n",
    "We already have 1 and 2 taken care of. We have data for 3-6 but we need to organize it."
   ]
  },
  {
   "cell_type": "markdown",
   "metadata": {},
   "source": [
    "## Streamer image\n",
    "We initially collected the actual images rather than the urls. An upside to this method is that we won't have to run into errors with a photo not being found if it gets removed from the web. However, the downside is that the image folder is unnecessarily large ~0.3GB. We'll instead take the other approach and collect the urls."
   ]
  },
  {
   "cell_type": "code",
   "execution_count": 1,
   "metadata": {},
   "outputs": [],
   "source": [
    "import requests\n",
    "import json\n",
    "from tqdm import tqdm\n",
    "import pandas as pd\n",
    "import config \n",
    "\n",
    "client_id=config.client_id\n",
    "bearer_token = config.bearer_token\n",
    "def get_streamer_photo_url(user):\n",
    "    url = \"https://api.twitch.tv/helix/users?login=%s\" % user.replace(\" \", \"\").lower()\n",
    "    response = requests.get(url, headers={\"client-id\":client_id, \"authorization\":\"Bearer %s\" % bearer_token})\n",
    "    try:\n",
    "        img_url = json.loads(response.text)[\"data\"][0][\"profile_image_url\"]\n",
    "    except:\n",
    "        img_url = \"NA\"\n",
    "    return [user, img_url]\n",
    "\n",
    "def get_all_streamer_photo_urls(usernames):\n",
    "    data = []\n",
    "    pbar = tqdm(usernames)\n",
    "    for user in pbar:\n",
    "        data.append(get_streamer_photo_url(user))\n",
    "        pbar.update(1)\n",
    "    return data\n",
    "            \n",
    "with open(\"data/usernames_for_app.txt\", \"r\") as f:\n",
    "    usernames = f.read().split(\"\\n\")"
   ]
  },
  {
   "cell_type": "code",
   "execution_count": 19,
   "metadata": {
    "scrolled": true
   },
   "outputs": [],
   "source": [
    "d = get_all_streamer_photo_urls(usernames)\n",
    "d[:10]"
   ]
  },
  {
   "cell_type": "code",
   "execution_count": 3,
   "metadata": {
    "scrolled": true
   },
   "outputs": [
    {
     "data": {
      "text/plain": [
       "[['BadBoyHaloIsLive', 'NA'],\n",
       " ['TheEret', 'NA'],\n",
       " ['FundyLIVE', 'NA'],\n",
       " ['RatedEpicz', 'NA'],\n",
       " ['skippypoppin',\n",
       "  'https://static-cdn.jtvnw.net/user-default-pictures-uv/de130ab0-def7-11e9-b668-784f43822e80-profile_image-300x300.png'],\n",
       " ['SnaggyMo', 'NA'],\n",
       " ['Neytiri', 'NA'],\n",
       " ['HappyThoughts0001', 'NA'],\n",
       " ['averagejoewo', 'NA'],\n",
       " ['Zenon_GP', 'NA']]"
      ]
     },
     "execution_count": 3,
     "metadata": {},
     "output_type": "execute_result"
    }
   ],
   "source": [
    "s = \"https://static-cdn.jtvnw.net/jtv_user_pictures/\" # all urls begin with this except missing/placeholder images\n",
    "[x for x in d if x[1][:len(s)] != s][:10]"
   ]
  },
  {
   "cell_type": "code",
   "execution_count": 4,
   "metadata": {},
   "outputs": [
    {
     "data": {
      "text/html": [
       "<div>\n",
       "<style scoped>\n",
       "    .dataframe tbody tr th:only-of-type {\n",
       "        vertical-align: middle;\n",
       "    }\n",
       "\n",
       "    .dataframe tbody tr th {\n",
       "        vertical-align: top;\n",
       "    }\n",
       "\n",
       "    .dataframe thead th {\n",
       "        text-align: right;\n",
       "    }\n",
       "</style>\n",
       "<table border=\"1\" class=\"dataframe\">\n",
       "  <thead>\n",
       "    <tr style=\"text-align: right;\">\n",
       "      <th></th>\n",
       "      <th>name</th>\n",
       "      <th>image_url</th>\n",
       "    </tr>\n",
       "  </thead>\n",
       "  <tbody>\n",
       "    <tr>\n",
       "      <th>0</th>\n",
       "      <td>Riot Games</td>\n",
       "      <td>https://static-cdn.jtvnw.net/jtv_user_pictures...</td>\n",
       "    </tr>\n",
       "    <tr>\n",
       "      <th>1</th>\n",
       "      <td>AustinShow</td>\n",
       "      <td>https://static-cdn.jtvnw.net/jtv_user_pictures...</td>\n",
       "    </tr>\n",
       "    <tr>\n",
       "      <th>2</th>\n",
       "      <td>dreamwastaken</td>\n",
       "      <td>https://static-cdn.jtvnw.net/jtv_user_pictures...</td>\n",
       "    </tr>\n",
       "    <tr>\n",
       "      <th>3</th>\n",
       "      <td>tommyinnit</td>\n",
       "      <td>https://static-cdn.jtvnw.net/jtv_user_pictures...</td>\n",
       "    </tr>\n",
       "    <tr>\n",
       "      <th>4</th>\n",
       "      <td>RocketLeague</td>\n",
       "      <td>https://static-cdn.jtvnw.net/jtv_user_pictures...</td>\n",
       "    </tr>\n",
       "  </tbody>\n",
       "</table>\n",
       "</div>"
      ],
      "text/plain": [
       "            name                                          image_url\n",
       "0     Riot Games  https://static-cdn.jtvnw.net/jtv_user_pictures...\n",
       "1     AustinShow  https://static-cdn.jtvnw.net/jtv_user_pictures...\n",
       "2  dreamwastaken  https://static-cdn.jtvnw.net/jtv_user_pictures...\n",
       "3     tommyinnit  https://static-cdn.jtvnw.net/jtv_user_pictures...\n",
       "4   RocketLeague  https://static-cdn.jtvnw.net/jtv_user_pictures..."
      ]
     },
     "execution_count": 4,
     "metadata": {},
     "output_type": "execute_result"
    }
   ],
   "source": [
    "# set all missing urls to 1 common placeholder url\n",
    "placeholder = \"https://static-cdn.jtvnw.net/user-default-pictures-uv/de130ab0-def7-11e9-b668-784f43822e80-profile_image-300x300.png\"\n",
    "new_d = [x if x[1][:len(s)]==s else [x[0],placeholder] for x in d]\n",
    "\n",
    "df_urls = pd.DataFrame(new_d, columns=[\"name\",\"image_url\"])\n",
    "df_urls.head()"
   ]
  },
  {
   "cell_type": "markdown",
   "metadata": {},
   "source": [
    "## Number of followers"
   ]
  },
  {
   "cell_type": "code",
   "execution_count": 5,
   "metadata": {},
   "outputs": [
    {
     "data": {
      "text/plain": [
       "(1904, 27)"
      ]
     },
     "execution_count": 5,
     "metadata": {},
     "output_type": "execute_result"
    }
   ],
   "source": [
    "df = pd.read_csv(\"data/streamer_info_eng.csv\")\n",
    "df = df[df[\"name\"].isin(usernames)]\n",
    "df.shape"
   ]
  },
  {
   "cell_type": "code",
   "execution_count": 6,
   "metadata": {
    "scrolled": true
   },
   "outputs": [],
   "source": [
    "df_follows = df[[\"name\",\"total_followers\"]]"
   ]
  },
  {
   "cell_type": "markdown",
   "metadata": {},
   "source": [
    "## Main & secondary games"
   ]
  },
  {
   "cell_type": "code",
   "execution_count": 7,
   "metadata": {},
   "outputs": [],
   "source": [
    "def get_main_games(user, n=2):\n",
    "    df = pd.read_csv(\"data/games/%s.csv\" % user)\n",
    "    df = df[~df.isna().any(axis=1)]\n",
    "    if len(df) == 0:\n",
    "        return [\"Unknown\"]*n\n",
    "    else:\n",
    "        df.loc[df[\"Game\"]==\"Unknown\", \"Game\"] = \"Unknown\"\n",
    "        df.loc[df[\"Game\"]==\"IRL\", \"Game\"] = \"Just Chatting\"\n",
    "        \n",
    "        df[\"pct_airtime\"] = df[\"Total airtime\"].apply(lambda x: x.split(\"hrs\")[1].strip(\"%\")).astype('float')\n",
    "        df_out = df[[\"Game\",\"pct_airtime\"]].groupby(\"Game\").sum().reset_index().sort_values(\"pct_airtime\", ascending=False)\n",
    "        list_out = df_out.head(n)[\"Game\"].values.tolist()\n",
    "        if len(list_out) < n:\n",
    "            list_out.extend([\"Unknown\"]*(n-len(list_out)))\n",
    "        return list_out"
   ]
  },
  {
   "cell_type": "code",
   "execution_count": 8,
   "metadata": {},
   "outputs": [],
   "source": [
    "game_data = []\n",
    "for user in usernames:\n",
    "    game_data.append([user] + get_main_games(user, n=2))"
   ]
  },
  {
   "cell_type": "code",
   "execution_count": 9,
   "metadata": {
    "scrolled": true
   },
   "outputs": [
    {
     "data": {
      "text/html": [
       "<div>\n",
       "<style scoped>\n",
       "    .dataframe tbody tr th:only-of-type {\n",
       "        vertical-align: middle;\n",
       "    }\n",
       "\n",
       "    .dataframe tbody tr th {\n",
       "        vertical-align: top;\n",
       "    }\n",
       "\n",
       "    .dataframe thead th {\n",
       "        text-align: right;\n",
       "    }\n",
       "</style>\n",
       "<table border=\"1\" class=\"dataframe\">\n",
       "  <thead>\n",
       "    <tr style=\"text-align: right;\">\n",
       "      <th></th>\n",
       "      <th>name</th>\n",
       "      <th>game1</th>\n",
       "      <th>game2</th>\n",
       "    </tr>\n",
       "  </thead>\n",
       "  <tbody>\n",
       "    <tr>\n",
       "      <th>0</th>\n",
       "      <td>Riot Games</td>\n",
       "      <td>League of Legends</td>\n",
       "      <td>Teamfight Tactics</td>\n",
       "    </tr>\n",
       "    <tr>\n",
       "      <th>1</th>\n",
       "      <td>AustinShow</td>\n",
       "      <td>Just Chatting</td>\n",
       "      <td>Arma 3</td>\n",
       "    </tr>\n",
       "    <tr>\n",
       "      <th>2</th>\n",
       "      <td>dreamwastaken</td>\n",
       "      <td>Minecraft</td>\n",
       "      <td>Just Chatting</td>\n",
       "    </tr>\n",
       "    <tr>\n",
       "      <th>3</th>\n",
       "      <td>tommyinnit</td>\n",
       "      <td>Minecraft</td>\n",
       "      <td>Just Chatting</td>\n",
       "    </tr>\n",
       "    <tr>\n",
       "      <th>4</th>\n",
       "      <td>RocketLeague</td>\n",
       "      <td>Rocket League</td>\n",
       "      <td>Unknown</td>\n",
       "    </tr>\n",
       "  </tbody>\n",
       "</table>\n",
       "</div>"
      ],
      "text/plain": [
       "            name              game1              game2\n",
       "0     Riot Games  League of Legends  Teamfight Tactics\n",
       "1     AustinShow      Just Chatting             Arma 3\n",
       "2  dreamwastaken          Minecraft      Just Chatting\n",
       "3     tommyinnit          Minecraft      Just Chatting\n",
       "4   RocketLeague      Rocket League            Unknown"
      ]
     },
     "execution_count": 9,
     "metadata": {},
     "output_type": "execute_result"
    }
   ],
   "source": [
    "df_games = pd.DataFrame(game_data, columns=[\"name\",\"game1\", \"game2\"])\n",
    "df_games.head()"
   ]
  },
  {
   "cell_type": "markdown",
   "metadata": {},
   "source": [
    "# Putting it all together"
   ]
  },
  {
   "cell_type": "code",
   "execution_count": 10,
   "metadata": {
    "scrolled": true
   },
   "outputs": [
    {
     "data": {
      "text/html": [
       "<div>\n",
       "<style scoped>\n",
       "    .dataframe tbody tr th:only-of-type {\n",
       "        vertical-align: middle;\n",
       "    }\n",
       "\n",
       "    .dataframe tbody tr th {\n",
       "        vertical-align: top;\n",
       "    }\n",
       "\n",
       "    .dataframe thead th {\n",
       "        text-align: right;\n",
       "    }\n",
       "</style>\n",
       "<table border=\"1\" class=\"dataframe\">\n",
       "  <thead>\n",
       "    <tr style=\"text-align: right;\">\n",
       "      <th></th>\n",
       "      <th>name</th>\n",
       "      <th>image_url</th>\n",
       "    </tr>\n",
       "  </thead>\n",
       "  <tbody>\n",
       "    <tr>\n",
       "      <th>0</th>\n",
       "      <td>Riot Games</td>\n",
       "      <td>https://static-cdn.jtvnw.net/jtv_user_pictures...</td>\n",
       "    </tr>\n",
       "    <tr>\n",
       "      <th>1</th>\n",
       "      <td>AustinShow</td>\n",
       "      <td>https://static-cdn.jtvnw.net/jtv_user_pictures...</td>\n",
       "    </tr>\n",
       "    <tr>\n",
       "      <th>2</th>\n",
       "      <td>dreamwastaken</td>\n",
       "      <td>https://static-cdn.jtvnw.net/jtv_user_pictures...</td>\n",
       "    </tr>\n",
       "    <tr>\n",
       "      <th>3</th>\n",
       "      <td>tommyinnit</td>\n",
       "      <td>https://static-cdn.jtvnw.net/jtv_user_pictures...</td>\n",
       "    </tr>\n",
       "    <tr>\n",
       "      <th>4</th>\n",
       "      <td>RocketLeague</td>\n",
       "      <td>https://static-cdn.jtvnw.net/jtv_user_pictures...</td>\n",
       "    </tr>\n",
       "  </tbody>\n",
       "</table>\n",
       "</div>"
      ],
      "text/plain": [
       "            name                                          image_url\n",
       "0     Riot Games  https://static-cdn.jtvnw.net/jtv_user_pictures...\n",
       "1     AustinShow  https://static-cdn.jtvnw.net/jtv_user_pictures...\n",
       "2  dreamwastaken  https://static-cdn.jtvnw.net/jtv_user_pictures...\n",
       "3     tommyinnit  https://static-cdn.jtvnw.net/jtv_user_pictures...\n",
       "4   RocketLeague  https://static-cdn.jtvnw.net/jtv_user_pictures..."
      ]
     },
     "execution_count": 10,
     "metadata": {},
     "output_type": "execute_result"
    }
   ],
   "source": [
    "df_urls.head()"
   ]
  },
  {
   "cell_type": "code",
   "execution_count": 11,
   "metadata": {},
   "outputs": [
    {
     "data": {
      "text/html": [
       "<div>\n",
       "<style scoped>\n",
       "    .dataframe tbody tr th:only-of-type {\n",
       "        vertical-align: middle;\n",
       "    }\n",
       "\n",
       "    .dataframe tbody tr th {\n",
       "        vertical-align: top;\n",
       "    }\n",
       "\n",
       "    .dataframe thead th {\n",
       "        text-align: right;\n",
       "    }\n",
       "</style>\n",
       "<table border=\"1\" class=\"dataframe\">\n",
       "  <thead>\n",
       "    <tr style=\"text-align: right;\">\n",
       "      <th></th>\n",
       "      <th>name</th>\n",
       "      <th>total_followers</th>\n",
       "    </tr>\n",
       "  </thead>\n",
       "  <tbody>\n",
       "    <tr>\n",
       "      <th>1</th>\n",
       "      <td>2BCSuperb</td>\n",
       "      <td>53531</td>\n",
       "    </tr>\n",
       "    <tr>\n",
       "      <th>2</th>\n",
       "      <td>360Chrism</td>\n",
       "      <td>116402</td>\n",
       "    </tr>\n",
       "    <tr>\n",
       "      <th>3</th>\n",
       "      <td>39daph</td>\n",
       "      <td>653858</td>\n",
       "    </tr>\n",
       "    <tr>\n",
       "      <th>4</th>\n",
       "      <td>4Conner</td>\n",
       "      <td>35469</td>\n",
       "    </tr>\n",
       "    <tr>\n",
       "      <th>6</th>\n",
       "      <td>5uppp</td>\n",
       "      <td>238878</td>\n",
       "    </tr>\n",
       "  </tbody>\n",
       "</table>\n",
       "</div>"
      ],
      "text/plain": [
       "        name  total_followers\n",
       "1  2BCSuperb            53531\n",
       "2  360Chrism           116402\n",
       "3     39daph           653858\n",
       "4    4Conner            35469\n",
       "6      5uppp           238878"
      ]
     },
     "execution_count": 11,
     "metadata": {},
     "output_type": "execute_result"
    }
   ],
   "source": [
    "df_follows.head()"
   ]
  },
  {
   "cell_type": "code",
   "execution_count": 12,
   "metadata": {},
   "outputs": [
    {
     "data": {
      "text/html": [
       "<div>\n",
       "<style scoped>\n",
       "    .dataframe tbody tr th:only-of-type {\n",
       "        vertical-align: middle;\n",
       "    }\n",
       "\n",
       "    .dataframe tbody tr th {\n",
       "        vertical-align: top;\n",
       "    }\n",
       "\n",
       "    .dataframe thead th {\n",
       "        text-align: right;\n",
       "    }\n",
       "</style>\n",
       "<table border=\"1\" class=\"dataframe\">\n",
       "  <thead>\n",
       "    <tr style=\"text-align: right;\">\n",
       "      <th></th>\n",
       "      <th>name</th>\n",
       "      <th>game1</th>\n",
       "      <th>game2</th>\n",
       "    </tr>\n",
       "  </thead>\n",
       "  <tbody>\n",
       "    <tr>\n",
       "      <th>0</th>\n",
       "      <td>Riot Games</td>\n",
       "      <td>League of Legends</td>\n",
       "      <td>Teamfight Tactics</td>\n",
       "    </tr>\n",
       "    <tr>\n",
       "      <th>1</th>\n",
       "      <td>AustinShow</td>\n",
       "      <td>Just Chatting</td>\n",
       "      <td>Arma 3</td>\n",
       "    </tr>\n",
       "    <tr>\n",
       "      <th>2</th>\n",
       "      <td>dreamwastaken</td>\n",
       "      <td>Minecraft</td>\n",
       "      <td>Just Chatting</td>\n",
       "    </tr>\n",
       "    <tr>\n",
       "      <th>3</th>\n",
       "      <td>tommyinnit</td>\n",
       "      <td>Minecraft</td>\n",
       "      <td>Just Chatting</td>\n",
       "    </tr>\n",
       "    <tr>\n",
       "      <th>4</th>\n",
       "      <td>RocketLeague</td>\n",
       "      <td>Rocket League</td>\n",
       "      <td>Unknown</td>\n",
       "    </tr>\n",
       "  </tbody>\n",
       "</table>\n",
       "</div>"
      ],
      "text/plain": [
       "            name              game1              game2\n",
       "0     Riot Games  League of Legends  Teamfight Tactics\n",
       "1     AustinShow      Just Chatting             Arma 3\n",
       "2  dreamwastaken          Minecraft      Just Chatting\n",
       "3     tommyinnit          Minecraft      Just Chatting\n",
       "4   RocketLeague      Rocket League            Unknown"
      ]
     },
     "execution_count": 12,
     "metadata": {},
     "output_type": "execute_result"
    }
   ],
   "source": [
    "df_games.head()"
   ]
  },
  {
   "cell_type": "code",
   "execution_count": 13,
   "metadata": {
    "scrolled": true
   },
   "outputs": [
    {
     "data": {
      "text/html": [
       "<div>\n",
       "<style scoped>\n",
       "    .dataframe tbody tr th:only-of-type {\n",
       "        vertical-align: middle;\n",
       "    }\n",
       "\n",
       "    .dataframe tbody tr th {\n",
       "        vertical-align: top;\n",
       "    }\n",
       "\n",
       "    .dataframe thead th {\n",
       "        text-align: right;\n",
       "    }\n",
       "</style>\n",
       "<table border=\"1\" class=\"dataframe\">\n",
       "  <thead>\n",
       "    <tr style=\"text-align: right;\">\n",
       "      <th></th>\n",
       "      <th>name</th>\n",
       "      <th>image_url</th>\n",
       "      <th>total_followers</th>\n",
       "      <th>game1</th>\n",
       "      <th>game2</th>\n",
       "    </tr>\n",
       "  </thead>\n",
       "  <tbody>\n",
       "    <tr>\n",
       "      <th>0</th>\n",
       "      <td>Riot Games</td>\n",
       "      <td>https://static-cdn.jtvnw.net/jtv_user_pictures...</td>\n",
       "      <td>5003571</td>\n",
       "      <td>League of Legends</td>\n",
       "      <td>Teamfight Tactics</td>\n",
       "    </tr>\n",
       "    <tr>\n",
       "      <th>1</th>\n",
       "      <td>AustinShow</td>\n",
       "      <td>https://static-cdn.jtvnw.net/jtv_user_pictures...</td>\n",
       "      <td>1059609</td>\n",
       "      <td>Just Chatting</td>\n",
       "      <td>Arma 3</td>\n",
       "    </tr>\n",
       "    <tr>\n",
       "      <th>2</th>\n",
       "      <td>dreamwastaken</td>\n",
       "      <td>https://static-cdn.jtvnw.net/jtv_user_pictures...</td>\n",
       "      <td>1783388</td>\n",
       "      <td>Minecraft</td>\n",
       "      <td>Just Chatting</td>\n",
       "    </tr>\n",
       "    <tr>\n",
       "      <th>3</th>\n",
       "      <td>tommyinnit</td>\n",
       "      <td>https://static-cdn.jtvnw.net/jtv_user_pictures...</td>\n",
       "      <td>1281150</td>\n",
       "      <td>Minecraft</td>\n",
       "      <td>Just Chatting</td>\n",
       "    </tr>\n",
       "    <tr>\n",
       "      <th>4</th>\n",
       "      <td>RocketLeague</td>\n",
       "      <td>https://static-cdn.jtvnw.net/jtv_user_pictures...</td>\n",
       "      <td>1930966</td>\n",
       "      <td>Rocket League</td>\n",
       "      <td>Unknown</td>\n",
       "    </tr>\n",
       "  </tbody>\n",
       "</table>\n",
       "</div>"
      ],
      "text/plain": [
       "            name                                          image_url  \\\n",
       "0     Riot Games  https://static-cdn.jtvnw.net/jtv_user_pictures...   \n",
       "1     AustinShow  https://static-cdn.jtvnw.net/jtv_user_pictures...   \n",
       "2  dreamwastaken  https://static-cdn.jtvnw.net/jtv_user_pictures...   \n",
       "3     tommyinnit  https://static-cdn.jtvnw.net/jtv_user_pictures...   \n",
       "4   RocketLeague  https://static-cdn.jtvnw.net/jtv_user_pictures...   \n",
       "\n",
       "   total_followers              game1              game2  \n",
       "0          5003571  League of Legends  Teamfight Tactics  \n",
       "1          1059609      Just Chatting             Arma 3  \n",
       "2          1783388          Minecraft      Just Chatting  \n",
       "3          1281150          Minecraft      Just Chatting  \n",
       "4          1930966      Rocket League            Unknown  "
      ]
     },
     "execution_count": 13,
     "metadata": {},
     "output_type": "execute_result"
    }
   ],
   "source": [
    "df_merged = df_urls.merge(df_follows, how=\"inner\", on=\"name\").merge(df_games, how=\"inner\", on=\"name\")\n",
    "df_merged.head()"
   ]
  },
  {
   "cell_type": "code",
   "execution_count": 14,
   "metadata": {},
   "outputs": [],
   "source": [
    "# custom formatting of followers \n",
    "def format_num(num):\n",
    "    assert num < 10**9, print(\"Number too large\") # pretty sure we don't need to format billions\n",
    "    if num >= 10**6:\n",
    "        m = str(num//10**6)\n",
    "        t = str(num)[len(m)]\n",
    "        return m + \".\" + t + \"M\"\n",
    "    elif num >= 10**3:\n",
    "        t = str(num//10**3)\n",
    "        tt = str(num)[len(t)]\n",
    "        return t + \".\" + tt + \"K\"\n",
    "    else:\n",
    "        return str(num)"
   ]
  },
  {
   "cell_type": "code",
   "execution_count": 15,
   "metadata": {},
   "outputs": [],
   "source": [
    "df_merged[\"total_followers\"] = df_merged[\"total_followers\"].map(format_num)"
   ]
  },
  {
   "cell_type": "code",
   "execution_count": 16,
   "metadata": {},
   "outputs": [
    {
     "data": {
      "text/html": [
       "<div>\n",
       "<style scoped>\n",
       "    .dataframe tbody tr th:only-of-type {\n",
       "        vertical-align: middle;\n",
       "    }\n",
       "\n",
       "    .dataframe tbody tr th {\n",
       "        vertical-align: top;\n",
       "    }\n",
       "\n",
       "    .dataframe thead th {\n",
       "        text-align: right;\n",
       "    }\n",
       "</style>\n",
       "<table border=\"1\" class=\"dataframe\">\n",
       "  <thead>\n",
       "    <tr style=\"text-align: right;\">\n",
       "      <th></th>\n",
       "      <th>name</th>\n",
       "      <th>image_url</th>\n",
       "      <th>total_followers</th>\n",
       "      <th>game1</th>\n",
       "      <th>game2</th>\n",
       "    </tr>\n",
       "  </thead>\n",
       "  <tbody>\n",
       "    <tr>\n",
       "      <th>0</th>\n",
       "      <td>Riot Games</td>\n",
       "      <td>https://static-cdn.jtvnw.net/jtv_user_pictures...</td>\n",
       "      <td>5.0M</td>\n",
       "      <td>League of Legends</td>\n",
       "      <td>Teamfight Tactics</td>\n",
       "    </tr>\n",
       "    <tr>\n",
       "      <th>1</th>\n",
       "      <td>AustinShow</td>\n",
       "      <td>https://static-cdn.jtvnw.net/jtv_user_pictures...</td>\n",
       "      <td>1.0M</td>\n",
       "      <td>Just Chatting</td>\n",
       "      <td>Arma 3</td>\n",
       "    </tr>\n",
       "    <tr>\n",
       "      <th>2</th>\n",
       "      <td>dreamwastaken</td>\n",
       "      <td>https://static-cdn.jtvnw.net/jtv_user_pictures...</td>\n",
       "      <td>1.7M</td>\n",
       "      <td>Minecraft</td>\n",
       "      <td>Just Chatting</td>\n",
       "    </tr>\n",
       "    <tr>\n",
       "      <th>3</th>\n",
       "      <td>tommyinnit</td>\n",
       "      <td>https://static-cdn.jtvnw.net/jtv_user_pictures...</td>\n",
       "      <td>1.2M</td>\n",
       "      <td>Minecraft</td>\n",
       "      <td>Just Chatting</td>\n",
       "    </tr>\n",
       "    <tr>\n",
       "      <th>4</th>\n",
       "      <td>RocketLeague</td>\n",
       "      <td>https://static-cdn.jtvnw.net/jtv_user_pictures...</td>\n",
       "      <td>1.9M</td>\n",
       "      <td>Rocket League</td>\n",
       "      <td>Unknown</td>\n",
       "    </tr>\n",
       "  </tbody>\n",
       "</table>\n",
       "</div>"
      ],
      "text/plain": [
       "            name                                          image_url  \\\n",
       "0     Riot Games  https://static-cdn.jtvnw.net/jtv_user_pictures...   \n",
       "1     AustinShow  https://static-cdn.jtvnw.net/jtv_user_pictures...   \n",
       "2  dreamwastaken  https://static-cdn.jtvnw.net/jtv_user_pictures...   \n",
       "3     tommyinnit  https://static-cdn.jtvnw.net/jtv_user_pictures...   \n",
       "4   RocketLeague  https://static-cdn.jtvnw.net/jtv_user_pictures...   \n",
       "\n",
       "  total_followers              game1              game2  \n",
       "0            5.0M  League of Legends  Teamfight Tactics  \n",
       "1            1.0M      Just Chatting             Arma 3  \n",
       "2            1.7M          Minecraft      Just Chatting  \n",
       "3            1.2M          Minecraft      Just Chatting  \n",
       "4            1.9M      Rocket League            Unknown  "
      ]
     },
     "execution_count": 16,
     "metadata": {},
     "output_type": "execute_result"
    }
   ],
   "source": [
    "df_merged.head()"
   ]
  },
  {
   "cell_type": "code",
   "execution_count": 17,
   "metadata": {},
   "outputs": [],
   "source": [
    "df_merged.to_csv(\"data/appdata.csv\", index=False)"
   ]
  },
  {
   "cell_type": "code",
   "execution_count": 18,
   "metadata": {},
   "outputs": [
    {
     "name": "stdout",
     "output_type": "stream",
     "text": [
      "(1, array(['AustinShow',\n",
      "       'https://static-cdn.jtvnw.net/jtv_user_pictures/9e894c05-6131-4414-bf01-a65e9f88b13a-profile_image-300x300.png',\n",
      "       '1.0M', 'Just Chatting', 'Arma 3'], dtype=object))\n",
      "(2, array(['Riot Games',\n",
      "       'https://static-cdn.jtvnw.net/jtv_user_pictures/889e7697-b636-48d9-be15-a9a39e286a64-profile_image-300x300.png',\n",
      "       '5.0M', 'League of Legends', 'Teamfight Tactics'], dtype=object))\n"
     ]
    }
   ],
   "source": [
    "# an example of what the data we'll pass to app would look like if the top recommendations were AustinShow and RiotGames\n",
    "data_for_app = enumerate( df_merged.set_index(\"name\").loc[[\"AustinShow\", \"Riot Games\"]].reset_index().values, start=1 )\n",
    "for data in data_for_app:\n",
    "    print(data)"
   ]
  },
  {
   "cell_type": "markdown",
   "metadata": {},
   "source": [
    "There is one tuple per recommendation. The first entry is the ranking and the second is all of the data about the recommendation (username, image url, number of followers, game 1, game 2)."
   ]
  }
 ],
 "metadata": {
  "kernelspec": {
   "display_name": "Python 3",
   "language": "python",
   "name": "python3"
  },
  "language_info": {
   "codemirror_mode": {
    "name": "ipython",
    "version": 3
   },
   "file_extension": ".py",
   "mimetype": "text/x-python",
   "name": "python",
   "nbconvert_exporter": "python",
   "pygments_lexer": "ipython3",
   "version": "3.7.6"
  }
 },
 "nbformat": 4,
 "nbformat_minor": 4
}
