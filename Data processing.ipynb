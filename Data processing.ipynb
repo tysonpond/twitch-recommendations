{
 "cells": [
  {
   "cell_type": "markdown",
   "metadata": {},
   "source": [
    "# Data processing"
   ]
  },
  {
   "cell_type": "code",
   "execution_count": 8,
   "metadata": {},
   "outputs": [],
   "source": [
    "import json\n",
    "import pandas as pd"
   ]
  },
  {
   "cell_type": "markdown",
   "metadata": {},
   "source": [
    "## 1. Reformatting JSON data to csv\n",
    "In the previous steps we collected user-streamer follower data in JSON format. We'll need to convert this to csv in order to work with scipy sparse matrices and fit our models."
   ]
  },
  {
   "cell_type": "code",
   "execution_count": 2,
   "metadata": {},
   "outputs": [],
   "source": [
    "with open(\"data/user_follows.json\", \"r\") as f:\n",
    "    user_data = json.load(f)"
   ]
  },
  {
   "cell_type": "code",
   "execution_count": 3,
   "metadata": {},
   "outputs": [
    {
     "name": "stdout",
     "output_type": "stream",
     "text": [
      "Number of users: 15997\n"
     ]
    }
   ],
   "source": [
    "print(\"Number of users:\", len(user_data))"
   ]
  },
  {
   "cell_type": "code",
   "execution_count": 4,
   "metadata": {},
   "outputs": [
    {
     "data": {
      "text/plain": [
       "'500301825'"
      ]
     },
     "execution_count": 4,
     "metadata": {},
     "output_type": "execute_result"
    }
   ],
   "source": [
    "# user_data is a dictionary with keys which are user IDs and \n",
    "# values like {\"total\": 85, \"following\":[[streamer_name1, time_followed1], ...]]} \n",
    "list(user_data.keys())[0]"
   ]
  },
  {
   "cell_type": "code",
   "execution_count": 5,
   "metadata": {},
   "outputs": [
    {
     "data": {
      "text/plain": [
       "['total', 'following']"
      ]
     },
     "execution_count": 5,
     "metadata": {},
     "output_type": "execute_result"
    }
   ],
   "source": [
    "list(user_data['500301825'].keys())"
   ]
  },
  {
   "cell_type": "code",
   "execution_count": 6,
   "metadata": {},
   "outputs": [
    {
     "data": {
      "text/plain": [
       "[['hakumai', '2020-11-05T09:16:30Z'],\n",
       " ['DesertHeartsRecords', '2020-11-05T09:13:39Z'],\n",
       " ['진진스', '2020-11-01T17:38:39Z'],\n",
       " ['DanTheLionTV', '2020-10-21T18:02:03Z'],\n",
       " ['HAchubby', '2020-10-06T20:01:48Z']]"
      ]
     },
     "execution_count": 6,
     "metadata": {},
     "output_type": "execute_result"
    }
   ],
   "source": [
    "user_data['500301825']['following'][:5]"
   ]
  },
  {
   "cell_type": "code",
   "execution_count": 9,
   "metadata": {},
   "outputs": [],
   "source": [
    "# subset the streamers to those that are contained within the top English streamers\n",
    "top_eng = pd.read_csv(\"data/streamer_info_eng.csv\")[\"name\"].values\n",
    "all_data = []\n",
    "for user_ID in user_data:\n",
    "    follows = user_data[user_ID][\"following\"]\n",
    "    follows_eng = [[user_ID] + x for x in follows if x[0] in top_eng]\n",
    "    all_data = all_data + follows_eng\n",
    "    \n",
    "df = pd.DataFrame(data=all_data, columns=[\"user_ID\", \"streamer_name\", \"followed_at\"])"
   ]
  },
  {
   "cell_type": "code",
   "execution_count": 10,
   "metadata": {},
   "outputs": [
    {
     "data": {
      "text/html": [
       "<div>\n",
       "<style scoped>\n",
       "    .dataframe tbody tr th:only-of-type {\n",
       "        vertical-align: middle;\n",
       "    }\n",
       "\n",
       "    .dataframe tbody tr th {\n",
       "        vertical-align: top;\n",
       "    }\n",
       "\n",
       "    .dataframe thead th {\n",
       "        text-align: right;\n",
       "    }\n",
       "</style>\n",
       "<table border=\"1\" class=\"dataframe\">\n",
       "  <thead>\n",
       "    <tr style=\"text-align: right;\">\n",
       "      <th></th>\n",
       "      <th>user_ID</th>\n",
       "      <th>streamer_name</th>\n",
       "      <th>followed_at</th>\n",
       "    </tr>\n",
       "  </thead>\n",
       "  <tbody>\n",
       "    <tr>\n",
       "      <th>0</th>\n",
       "      <td>500301825</td>\n",
       "      <td>DesertHeartsRecords</td>\n",
       "      <td>2020-11-05T09:13:39Z</td>\n",
       "    </tr>\n",
       "    <tr>\n",
       "      <th>1</th>\n",
       "      <td>500301825</td>\n",
       "      <td>HAchubby</td>\n",
       "      <td>2020-10-06T20:01:48Z</td>\n",
       "    </tr>\n",
       "    <tr>\n",
       "      <th>2</th>\n",
       "      <td>500301825</td>\n",
       "      <td>NoHaileeNo</td>\n",
       "      <td>2020-07-14T08:58:40Z</td>\n",
       "    </tr>\n",
       "    <tr>\n",
       "      <th>3</th>\n",
       "      <td>500301825</td>\n",
       "      <td>melina</td>\n",
       "      <td>2020-06-21T15:22:03Z</td>\n",
       "    </tr>\n",
       "    <tr>\n",
       "      <th>4</th>\n",
       "      <td>500301825</td>\n",
       "      <td>EsfandTV</td>\n",
       "      <td>2020-03-19T01:36:38Z</td>\n",
       "    </tr>\n",
       "  </tbody>\n",
       "</table>\n",
       "</div>"
      ],
      "text/plain": [
       "     user_ID        streamer_name           followed_at\n",
       "0  500301825  DesertHeartsRecords  2020-11-05T09:13:39Z\n",
       "1  500301825             HAchubby  2020-10-06T20:01:48Z\n",
       "2  500301825           NoHaileeNo  2020-07-14T08:58:40Z\n",
       "3  500301825               melina  2020-06-21T15:22:03Z\n",
       "4  500301825             EsfandTV  2020-03-19T01:36:38Z"
      ]
     },
     "execution_count": 10,
     "metadata": {},
     "output_type": "execute_result"
    }
   ],
   "source": [
    "df.head()"
   ]
  },
  {
   "cell_type": "code",
   "execution_count": 11,
   "metadata": {},
   "outputs": [
    {
     "data": {
      "text/plain": [
       "(288713, 3)"
      ]
     },
     "execution_count": 11,
     "metadata": {},
     "output_type": "execute_result"
    }
   ],
   "source": [
    "df.shape"
   ]
  },
  {
   "cell_type": "code",
   "execution_count": 12,
   "metadata": {},
   "outputs": [],
   "source": [
    "df.to_csv(\"data/user_follows.csv\", index=False)"
   ]
  },
  {
   "cell_type": "markdown",
   "metadata": {},
   "source": [
    "## 2. Removing users and items with insufficient data\n",
    "We remove users with insufficient items (<= 4) and then items with insufficient users (<= 4) because we assume we will not be able to make accurate predictions for these.\n",
    "\n",
    "Note, removing items with <= 4 users may cause some users to again have < 4 items. We could've repeated this process until no \"bad\" users or items were present; however, we checked after 1 iteration and only 3 users were left as \"bad\" -- so we decided to stop here. "
   ]
  },
  {
   "cell_type": "code",
   "execution_count": 13,
   "metadata": {},
   "outputs": [
    {
     "name": "stdout",
     "output_type": "stream",
     "text": [
      "Number of unique users: 15994\n",
      "Number of users that are following at least 4 streamers 10985\n",
      "\n",
      "\n",
      "Number of unique streamers: 1974\n",
      "Number of streamers that have at least 4 follows 1904\n"
     ]
    },
    {
     "data": {
      "text/plain": [
       "(277298, 3)"
      ]
     },
     "execution_count": 13,
     "metadata": {},
     "output_type": "execute_result"
    }
   ],
   "source": [
    "df = pd.read_csv(\"data/user_follows.csv\")\n",
    "\n",
    "# 1. Removing users with insufficient items\n",
    "df_group = df.groupby(\"user_ID\")\n",
    "df_num_follows = df_group.size()\n",
    "print(\"Number of unique users:\", len(df_num_follows))\n",
    "print(\"Number of users that are following at least 4 streamers\", (df_num_follows > 4).sum())\n",
    "print(\"\\n\")\n",
    "good_users = df_num_follows[df_num_follows > 4].index\n",
    "df = df[df[\"user_ID\"].isin(good_users)]\n",
    "\n",
    "# 2. Removing items with insufficient users\n",
    "df_group = df.groupby(\"streamer_name\")\n",
    "df_num_follows = df_group.size()\n",
    "print(\"Number of unique streamers:\", len(df_num_follows))\n",
    "print(\"Number of streamers that have at least 4 follows\", (df_num_follows > 4).sum())\n",
    "good_streamers = df_num_follows[df_num_follows > 4].index\n",
    "df = df[df[\"streamer_name\"].isin(good_streamers)]\n",
    "\n",
    "df.shape"
   ]
  },
  {
   "cell_type": "code",
   "execution_count": 14,
   "metadata": {},
   "outputs": [],
   "source": [
    "df.to_csv(\"data/user_follows-2.csv\", index=False)"
   ]
  }
 ],
 "metadata": {
  "kernelspec": {
   "display_name": "Python 3",
   "language": "python",
   "name": "python3"
  },
  "language_info": {
   "codemirror_mode": {
    "name": "ipython",
    "version": 3
   },
   "file_extension": ".py",
   "mimetype": "text/x-python",
   "name": "python",
   "nbconvert_exporter": "python",
   "pygments_lexer": "ipython3",
   "version": "3.7.6"
  }
 },
 "nbformat": 4,
 "nbformat_minor": 4
}
