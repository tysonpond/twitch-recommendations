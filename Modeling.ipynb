{
 "cells": [
  {
   "cell_type": "markdown",
   "metadata": {},
   "source": [
    "# Recommender system for Twitch\n",
    "## Which Twitch streamers should *YOU* watch?"
   ]
  },
  {
   "cell_type": "code",
   "execution_count": 136,
   "metadata": {},
   "outputs": [],
   "source": [
    "# data processing & visualization\n",
    "import pandas as pd\n",
    "import matplotlib.pyplot as plt\n",
    "import seaborn as sns\n",
    "\n",
    "# computation\n",
    "import numpy as np\n",
    "import scipy.sparse as sparse\n",
    "from sklearn.metrics.pairwise import cosine_similarity\n",
    "\n",
    "# ------- modeling --------\n",
    "# Implicit: https://github.com/benfred/implicit\n",
    "# Note: I pulled changes from PR #429 which makes corrections to ranking_metrics_at_k\n",
    "import implicit\n",
    "from implicit.evaluation import train_test_split\n",
    "from implicit.evaluation import ranking_metrics_at_k\n",
    "\n",
    "# LightFM: https://github.com/lyst/lightfm\n",
    "# Note: I implemented average_precision_at_k\n",
    "from lightfm import LightFM\n",
    "from lightfm.evaluation import precision_at_k, recall_at_k, average_precision_at_k\n",
    "# -------------------------\n",
    "\n",
    "# miscellaneous utilities\n",
    "from tqdm import tqdm\n",
    "from collections import Counter\n",
    "import pickle"
   ]
  },
  {
   "cell_type": "markdown",
   "metadata": {},
   "source": [
    "# Preparing data for the Implicit package"
   ]
  },
  {
   "cell_type": "markdown",
   "metadata": {},
   "source": [
    "Implicit works with sparse matrices, we need to convert our dataframe to a sparse matrix of dimension $(n_\\text{users}, n_\\text{items})$."
   ]
  },
  {
   "cell_type": "code",
   "execution_count": 95,
   "metadata": {},
   "outputs": [],
   "source": [
    "# load preprocessed user-item pairs dataframe\n",
    "df = pd.read_csv(\"data/user_follows-2.csv\")\n",
    "\n",
    "# lookup ID corresponding to streamer name or vice versa -- this will be helpful for examining individual recommendations\n",
    "encode_streamer = {x:y for x,y in zip(df[\"streamer_name\"], df[\"streamer_name\"].astype(\"category\").cat.codes)}\n",
    "decode_streamer = {y:x for x,y in zip(df[\"streamer_name\"], df[\"streamer_name\"].astype(\"category\").cat.codes)}\n",
    "\n",
    "# user_ID is already an integer, but we need to convert it to the range [0,n_users). We can do this by converting to categorical\n",
    "# and then using an ordinal encoder (cat.codes). streamer_name can be dealt with in the same way.\n",
    "df[\"user_ID\"] = df[\"user_ID\"].astype(\"category\").cat.codes\n",
    "df[\"streamer_name\"] = df[\"streamer_name\"].astype(\"category\").cat.codes\n",
    "\n",
    "# We'll use the 3rd column as the value in the interaction matrix\n",
    "# By setting it to 1 we're saying the values in the interaction matrix are in {0,1}\n",
    "# It might be worth weighting this value by the time followed at (older/newer follows more predictive of \"liking\" the streamer?)\n",
    "df[\"followed_at\"] = 1\n",
    "\n",
    "# rename columns\n",
    "df.rename(columns={\"streamer_name\":\"streamer_ID\", \"followed_at\":\"weight\"}, inplace=True)\n",
    "\n",
    "# convert dataframe to sparse matrix\n",
    "user_items = sparse.csr_matrix( (df[\"weight\"], (df['user_ID'], df['streamer_ID'])) ) # format for fitting is (item,user)\n",
    "\n",
    "n_users, n_items = user_items.shape"
   ]
  },
  {
   "cell_type": "markdown",
   "metadata": {},
   "source": [
    "## Train-test split & validation\n",
    "We split our data into training (80%), validation (10%), and testing (10%). Part of our reason for this ratio (as opposed to 60%, 20%, 20%) is to avoid having items with few users or users with few items within the training set. Future work should investigate the impact of this choice, and would ideally also use cross-validation; however, due to time considerations we will not.\n",
    "\n",
    "We will use our validation set to tune hyperparameters and choose the best model over several candidates, and then report the performance of the best model at the end."
   ]
  },
  {
   "cell_type": "code",
   "execution_count": 96,
   "metadata": {},
   "outputs": [
    {
     "data": {
      "text/plain": [
       "((10985, 1904), (10985, 1904), (10985, 1904))"
      ]
     },
     "execution_count": 96,
     "metadata": {},
     "output_type": "execute_result"
    }
   ],
   "source": [
    "r = np.random.RandomState(42)\n",
    "tp = 0.9 # train percentage\n",
    "train_user_items, test_user_items = train_test_split(user_items, train_percentage=tp, random_state=r)\n",
    "train_user_items, val_user_items = train_test_split(train_user_items, train_percentage=2-1/tp, random_state=r)\n",
    "train_user_items.shape, val_user_items.shape, test_user_items.shape"
   ]
  },
  {
   "cell_type": "markdown",
   "metadata": {},
   "source": [
    "We check the training set below to make sure every user has at least one item and every item has at least one user. Fortunately everything checks out; however, in some cases we might've needed to add back in user-item pairs."
   ]
  },
  {
   "cell_type": "code",
   "execution_count": 97,
   "metadata": {},
   "outputs": [
    {
     "name": "stdout",
     "output_type": "stream",
     "text": [
      "Number of users with at least 1 item: 10985 / 10985\n",
      "Number of items with at least 1 user: 1904 / 1904\n"
     ]
    }
   ],
   "source": [
    "train_user_sums = train_user_items.sum(axis=1)\n",
    "train_item_sums = train_user_items.sum(axis=0)\n",
    "\n",
    "print(\"Number of users with at least 1 item:\", (train_user_sums > 0).sum(), \"/\", n_users )\n",
    "print(\"Number of items with at least 1 user:\", (train_item_sums > 0).sum(), \"/\", n_items ) "
   ]
  },
  {
   "cell_type": "markdown",
   "metadata": {},
   "source": [
    "How many total (positive) interactions are in each dataset? What is the average number of interactions per user and per item?"
   ]
  },
  {
   "cell_type": "code",
   "execution_count": 98,
   "metadata": {},
   "outputs": [
    {
     "name": "stdout",
     "output_type": "stream",
     "text": [
      "Train | val | test\n",
      "Total interactions: 222131 | 27450 | 27717\n",
      "Avg interactions/user: 20.22130177514793 | 2.4988620846609013 | 2.523167956304051\n",
      "Avg interactions/item: 116.6654411764706 | 14.417016806722689 | 14.557247899159664\n"
     ]
    }
   ],
   "source": [
    "print(\"Train | val | test\")\n",
    "print(\"Total interactions:\", train_user_items.sum(), \"|\", val_user_items.sum(), \"|\", test_user_items.sum())\n",
    "print(\"Avg interactions/user:\", train_user_items.sum()/n_users, \"|\", val_user_items.sum()/n_users, \"|\", test_user_items.sum()/n_users)\n",
    "print(\"Avg interactions/item:\", train_user_items.sum()/n_items, \"|\", val_user_items.sum()/n_items, \"|\", test_user_items.sum()/n_items)"
   ]
  },
  {
   "cell_type": "markdown",
   "metadata": {},
   "source": [
    "Below we plot distributions of interactions/user and interactions/item in the training and validation sets (the test set is not noticeably different, so we omit it)."
   ]
  },
  {
   "cell_type": "code",
   "execution_count": 99,
   "metadata": {},
   "outputs": [
    {
     "data": {
      "image/png": "[encoded data removed]",
      "text/plain": [
       "<Figure size 720x288 with 4 Axes>"
      ]
     },
     "metadata": {
      "needs_background": "light"
     },
     "output_type": "display_data"
    }
   ],
   "source": [
    "def fmt_sums(m, axis):\n",
    "    return np.squeeze(np.asarray(m.sum(axis=axis)))\n",
    "\n",
    "t0 = pd.DataFrame({\"train\":fmt_sums(train_user_items,1)})\n",
    "v0 = pd.DataFrame({\"val\":fmt_sums(val_user_items,1)})\n",
    "t1 = pd.DataFrame({\"train\":fmt_sums(train_user_items,0)})\n",
    "v1 = pd.DataFrame({\"val\":fmt_sums(val_user_items,0)})\n",
    "\n",
    "fig, ax = plt.subplots(2,2, figsize=(10,4))\n",
    "ax = ax.flatten()\n",
    "for i,data in enumerate([t0,t1,v0,v1]):\n",
    "    plt.sca(ax[i])\n",
    "    sns.kdeplot(data=data)\n",
    "    if i == 2:\n",
    "        plt.xlabel(\"interactions/user\")\n",
    "    if i == 3:\n",
    "        plt.xlabel(\"interactions/item\")\n",
    "plt.tight_layout()\n",
    "plt.show()"
   ]
  },
  {
   "cell_type": "markdown",
   "metadata": {},
   "source": [
    "**Considerations:** In the validation & test set each user has on average only 2.5 items which they've interacted with. This has implications for using \"@K\" metrics to evaluate our model. Say we choose $K=10$; we can only suggest 2-3 relevant items, which means the best precision at cutoff K we can get is 0.2-0.3. Some data scientists suggest a variation of precision @ K which accounts for this, and ends up having a maximum value of 1 -- however, we'll just leave it as is.\n",
    "\n",
    "We can also see that the distributions of interactions are highly skewed right (some items have many users and some users have many items)."
   ]
  },
  {
   "cell_type": "markdown",
   "metadata": {},
   "source": [
    "# Baseline: popularity model\n",
    "Before we fit our model, let's check out a baseline. We use `train_item_sums` to count the number of users per item and sort by popularity to get `ranks` below. In testing, for each user we remove any of the items that they had at training and rank the remaining by popularity. We compute P@K, R@K, and mAP@K below (this runs slower than evaluating the complex models because my implementation is NOT in Cython)."
   ]
  },
  {
   "cell_type": "code",
   "execution_count": 100,
   "metadata": {
    "scrolled": true
   },
   "outputs": [
    {
     "name": "stderr",
     "output_type": "stream",
     "text": [
      "100%|███████████████████████████████████████████████████████████████████████████| 10985/10985 [00:45<00:00, 242.63it/s]\n",
      "100%|███████████████████████████████████████████████████████████████████████████| 10985/10985 [00:47<00:00, 229.98it/s]\n"
     ]
    },
    {
     "data": {
      "text/html": [
       "<div>\n",
       "<style scoped>\n",
       "    .dataframe tbody tr th:only-of-type {\n",
       "        vertical-align: middle;\n",
       "    }\n",
       "\n",
       "    .dataframe tbody tr th {\n",
       "        vertical-align: top;\n",
       "    }\n",
       "\n",
       "    .dataframe thead th {\n",
       "        text-align: right;\n",
       "    }\n",
       "</style>\n",
       "<table border=\"1\" class=\"dataframe\">\n",
       "  <thead>\n",
       "    <tr style=\"text-align: right;\">\n",
       "      <th></th>\n",
       "      <th>K=5</th>\n",
       "      <th>K=10</th>\n",
       "    </tr>\n",
       "  </thead>\n",
       "  <tbody>\n",
       "    <tr>\n",
       "      <th>P@K</th>\n",
       "      <td>0.049374</td>\n",
       "      <td>0.037013</td>\n",
       "    </tr>\n",
       "    <tr>\n",
       "      <th>R@K</th>\n",
       "      <td>0.075446</td>\n",
       "      <td>0.113115</td>\n",
       "    </tr>\n",
       "    <tr>\n",
       "      <th>MAP@K</th>\n",
       "      <td>0.021525</td>\n",
       "      <td>0.012661</td>\n",
       "    </tr>\n",
       "  </tbody>\n",
       "</table>\n",
       "</div>"
      ],
      "text/plain": [
       "            K=5      K=10\n",
       "P@K    0.049374  0.037013\n",
       "R@K    0.075446  0.113115\n",
       "MAP@K  0.021525  0.012661"
      ]
     },
     "execution_count": 100,
     "metadata": {},
     "output_type": "execute_result"
    }
   ],
   "source": [
    "def get_baseline_eval(train_user_items, test_user_items, K_list=[5,10]):\n",
    "    train_item_sums = train_user_items.sum(axis=0)\n",
    "    ranks = sorted([(i,x) for i,x in enumerate(np.squeeze(np.asarray(train_item_sums)))], key=lambda x: -x[1])\n",
    "    \n",
    "    data = []\n",
    "    for K in K_list:\n",
    "        relevant = 0\n",
    "        precision_div = 0\n",
    "        recall_div = 0\n",
    "        mean_ap = 0\n",
    "\n",
    "        pbar = tqdm(range(n_users))\n",
    "        for user_id in pbar:\n",
    "            test_likes = test_user_items[user_id,:].nonzero()[1]\n",
    "\n",
    "            # if no test likes, skip user\n",
    "            if len(test_likes) == 0:\n",
    "                pbar.update(1)\n",
    "                continue\n",
    "\n",
    "            # avoid recommending items already liked in training set\n",
    "            train_likes = train_user_items[user_id,:].nonzero()[1]\n",
    "            recs = [i for i,x in ranks if i not in train_likes]\n",
    "            recs = recs[:min(K, len(recs))] # top K\n",
    "\n",
    "            # calculate user's precision & recall (for test set)\n",
    "            ap = 0\n",
    "            hit = 0\n",
    "            for i in range(K):\n",
    "                if recs[i] in test_likes:\n",
    "                    relevant += 1\n",
    "                    hit += 1\n",
    "                    ap += hit/(i+1)\n",
    "\n",
    "            mean_ap += ap/K\n",
    "            precision_div += K\n",
    "            recall_div += len(test_likes)\n",
    "\n",
    "            pbar.update(1)\n",
    "        \n",
    "        pr = relevant/precision_div\n",
    "        re = relevant/recall_div\n",
    "        mean_ap = mean_ap/n_users\n",
    "        data.append( [pr, re, mean_ap] )\n",
    "        \n",
    "    df = pd.DataFrame(data=data).T\n",
    "    df.columns = [\"K=%i\" % K for K in K_list]\n",
    "    df.index = [\"P@K\", \"R@K\", \"MAP@K\"]\n",
    "    return df\n",
    "        \n",
    "evals = get_baseline_eval(train_user_items, val_user_items, K_list=[5,10])\n",
    "evals"
   ]
  },
  {
   "cell_type": "markdown",
   "metadata": {},
   "source": [
    "Our baseline model gives `P@K` of 3.7% for $K=10$ indicating of the top 10 items recommended only 3.7% were actually relevant. The `R@K` for $K=10$ indicates that 11.3% of relevant items were recommended within the top 10. This is not a bad baseline, but we'll soon see that we can do better. "
   ]
  },
  {
   "cell_type": "markdown",
   "metadata": {},
   "source": [
    "# Fit Implicit model"
   ]
  },
  {
   "cell_type": "markdown",
   "metadata": {},
   "source": [
    "The Implicit package offers an efficient way for doing collaborative filtering with implicit feedback. Because models for implicit feedback optimize over all user-item pairs (rather than just observer pairs), an efficient algorithm is needed. The algorithm, Alternating Least Squares, alternates between optimizing user and item latent factors. The algorithm solves the optimization problem\n",
    "$$\\min_{x_*, y_*} \\sum_{u,i} c_{ui} (p_{ui}-x_u^T y_i)^2 + \\lambda \\left(\\sum_u \\lVert x_u\\rVert^2 + \\sum_i \\lVert y_i\\rVert^2\\right).$$\n",
    "Here $\\{x_u\\}_{u=1}^m$ are the latent user factors and $\\{y_i\\}_{i=1}^n$ are the latent item factors which we are trying to optimize for, $c_{ui}$ is a confidence score in each interaction $r_{ui}$, $p_{ui}$ is a binarized version of $r_{ui}$ (1 if $r_{ui} > 0$, else 0), and $\\lambda$ is a regularization factor.\n",
    "\n",
    "For us we just set $c_{ui}=1$ since we do not have any way to judge our confidence in the interactions. In some implicit feedback tasks the modeler may have data on # clicks, # purchases, etc., but we only have binary follow/no-follow interactions. "
   ]
  },
  {
   "cell_type": "code",
   "execution_count": 101,
   "metadata": {
    "scrolled": false
   },
   "outputs": [
    {
     "data": {
      "application/vnd.jupyter.widget-view+json": {
       "model_id": "162510df7b394384a2e7681baa2c37d0",
       "version_major": 2,
       "version_minor": 0
      },
      "text/plain": [
       "HBox(children=(HTML(value=''), FloatProgress(value=0.0), HTML(value='')))"
      ]
     },
     "metadata": {},
     "output_type": "display_data"
    },
    {
     "name": "stdout",
     "output_type": "stream",
     "text": [
      "\n"
     ]
    }
   ],
   "source": [
    "# fit model\n",
    "model = implicit.als.AlternatingLeastSquares(factors=60, regularization=20, iterations=100, random_state=r)\n",
    "model.fit(train_user_items.T) # format for fitting is item_users"
   ]
  },
  {
   "cell_type": "code",
   "execution_count": 104,
   "metadata": {
    "scrolled": true
   },
   "outputs": [
    {
     "data": {
      "text/html": [
       "<div>\n",
       "<style scoped>\n",
       "    .dataframe tbody tr th:only-of-type {\n",
       "        vertical-align: middle;\n",
       "    }\n",
       "\n",
       "    .dataframe tbody tr th {\n",
       "        vertical-align: top;\n",
       "    }\n",
       "\n",
       "    .dataframe thead th {\n",
       "        text-align: right;\n",
       "    }\n",
       "</style>\n",
       "<table border=\"1\" class=\"dataframe\">\n",
       "  <thead>\n",
       "    <tr style=\"text-align: right;\">\n",
       "      <th></th>\n",
       "      <th>K=5</th>\n",
       "      <th>K=10</th>\n",
       "    </tr>\n",
       "  </thead>\n",
       "  <tbody>\n",
       "    <tr>\n",
       "      <th>P@K</th>\n",
       "      <td>0.129932</td>\n",
       "      <td>0.096317</td>\n",
       "    </tr>\n",
       "    <tr>\n",
       "      <th>R@K</th>\n",
       "      <td>0.198543</td>\n",
       "      <td>0.294353</td>\n",
       "    </tr>\n",
       "    <tr>\n",
       "      <th>MAP@K</th>\n",
       "      <td>0.084649</td>\n",
       "      <td>0.051034</td>\n",
       "    </tr>\n",
       "  </tbody>\n",
       "</table>\n",
       "</div>"
      ],
      "text/plain": [
       "            K=5      K=10\n",
       "P@K    0.129932  0.096317\n",
       "R@K    0.198543  0.294353\n",
       "MAP@K  0.084649  0.051034"
      ]
     },
     "execution_count": 104,
     "metadata": {},
     "output_type": "execute_result"
    }
   ],
   "source": [
    "def get_implicit_eval(model, train_user_items, test_user_items, K_list=[5,10]):\n",
    "    data = []\n",
    "    for K in K_list:   \n",
    "        rm = ranking_metrics_at_k(model, train_user_items, test_user_items, K=K, show_progress=False)\n",
    "        data.append( [rm[x] for x in [\"precision_correct\", \"recall_correct\", \"map_correct\"]] )\n",
    "    \n",
    "    df = pd.DataFrame(data=data).T\n",
    "    df.columns = [\"K=%i\" % K for K in K_list]\n",
    "    df.index = [\"P@K\", \"R@K\", \"MAP@K\"]\n",
    "    return df\n",
    "\n",
    "evals = get_implicit_eval(model, train_user_items, val_user_items, K_list=[5,10])\n",
    "evals"
   ]
  },
  {
   "cell_type": "markdown",
   "metadata": {},
   "source": [
    "Looking at $K=10$, from `P@K` we see that of the top 10 items, on average 9.6% are liked by the user. On the other hand, `R@K` tells us that of the user's likes, on average 29.4% were listed in the top 10 items. This is significantly better than the baseline model. We also see that `MAP@K` is higher, indicating that when we do identify relevant recommendations -- this model tends to rank them more highly in the list.\n",
    "\n",
    "We experimented with several different hyperparameter choices before settling on `factors=60`, `regularization=20`, and `iterations=100`. In general we found that increasing the number of latent factors is beneficial provided that regularization is increased simultaneously."
   ]
  },
  {
   "cell_type": "markdown",
   "metadata": {},
   "source": [
    "## Looking at the actual recommendations"
   ]
  },
  {
   "cell_type": "markdown",
   "metadata": {},
   "source": [
    "### Suggesting similar items"
   ]
  },
  {
   "cell_type": "code",
   "execution_count": 105,
   "metadata": {
    "scrolled": false
   },
   "outputs": [
    {
     "data": {
      "text/plain": [
       "['xQcOW',\n",
       " 'dinossindgeil',\n",
       " 'TommyKayLIVE',\n",
       " 'MightyTeapot',\n",
       " 'adeptthebest',\n",
       " 'MixelPlx',\n",
       " 'TheJRM_',\n",
       " 'allkeyshop_tv',\n",
       " 'Trainwreckstv',\n",
       " 'pokelawls']"
      ]
     },
     "execution_count": 105,
     "metadata": {},
     "output_type": "execute_result"
    }
   ],
   "source": [
    "streamer_name = \"xQcOW\"\n",
    "[decode_streamer[streamer_id] for streamer_id,score in model.similar_items(itemid=encode_streamer[streamer_name], N=10)]"
   ]
  },
  {
   "cell_type": "markdown",
   "metadata": {},
   "source": [
    "Below we present the math behind this. We compute the cosine similarity between the latent factors for the item of interest $y_\\text{xQcOW}$ and all the other items' latent factors $y_i$. Then we rank the items by scores and present the top $K$."
   ]
  },
  {
   "cell_type": "code",
   "execution_count": 106,
   "metadata": {
    "scrolled": false
   },
   "outputs": [
    {
     "name": "stdout",
     "output_type": "stream",
     "text": [
      "xQcOW\n",
      "dinossindgeil\n",
      "TommyKayLIVE\n",
      "MightyTeapot\n",
      "adeptthebest\n",
      "MixelPlx\n",
      "TheJRM_\n",
      "allkeyshop_tv\n",
      "Trainwreckstv\n",
      "pokelawls\n"
     ]
    }
   ],
   "source": [
    "# make recommendations\n",
    "content_id = encode_streamer[streamer_name] # streamer ID\n",
    "n_similar = 10\n",
    "\n",
    "person_vecs = model.user_factors\n",
    "content_vecs = model.item_factors\n",
    "\n",
    "content_norms = np.sqrt((content_vecs * content_vecs).sum(axis=1))\n",
    "\n",
    "scores = content_vecs.dot(content_vecs[content_id]) / content_norms\n",
    "top_idx = np.argpartition(scores, -n_similar)[-n_similar:]\n",
    "similar = sorted(zip(top_idx, scores[top_idx] / content_norms[content_id]), key=lambda x: -x[1])\n",
    "\n",
    "for content in similar:\n",
    "    idx, score = content\n",
    "    print(decode_streamer[idx])"
   ]
  },
  {
   "cell_type": "markdown",
   "metadata": {},
   "source": [
    "### Suggest items to a (unseen) user\n",
    "Suggesting items to a user $u$ is similar. Our model was designed to minimize the difference between $x_u^T y_i$ and their actual feedback $p_{ui}$, so all that needs to be done is compute $x_u^T y_i$ for all items $i$ and then rank by items. We omit the Python implementation and just use Implicit's `model.recommend()` method.\n",
    "\n",
    "Normally, to make recommendations to an **unseen** user (provided they are not *new*, i.e. they have interaction data) one would retrain the model. To save time here, at the cost of accuracy, I'm just going to find the user that has the most similar interaction vector to mine and query their recommendations."
   ]
  },
  {
   "cell_type": "code",
   "execution_count": 117,
   "metadata": {},
   "outputs": [
    {
     "name": "stdout",
     "output_type": "stream",
     "text": [
      "Who I follow:\n",
      "['imls', 'akaNemsko', 'Chess', 'HealthyGamer_GG', 'chess24', 'BotezLive', 'SpectateTyler1', 'GMHikaru', 'HasanAbi', 'Kandyland', 'OvileeMay', 'LCS', 'LEC', 'RATIRL', 'MOONMOON', 'trihex', 'MitchJones', 'SaltyTeemo', 'Maya', 'Mizkif', 'midbeast', 'Macaiyla', 'IWillDominate', 'Trainwreckstv', 'Rush', 'xQcOW', 'TFBlade', 'Jenna', 'Aphromoo', 'AustinShow', 'Faux', 'Stephen_Wolfram', 'UberHaxorNova', 'forsen', 'DrDisrespect', 'aleks', 'sodapoppin', 'pokimane', 'imaqtpie', 'LLStylish', 'erobb221', 'Viper', 'Yassuo', 'Destiny', 'summit1g', 'Greekgodx', 'Faker', 'B0aty', 'Becca', 'sneakylol', 'Reckful', 'loltyler1', 'Ice_Poseidon', 'CowChop', 'Sp00nerism', 'JERICHO', 'hexy', 'Doublelift', 'Rivington', 'GoldGlove', 'PhreakStream', 'LIRIK', 'Nightblue3', 'Trick2g', 'Wingsofdeath', 'TSM_Bjergsen', 'Riot Games']\n",
      "\n",
      "\n",
      "Most similar user to me (ID): 7367\n",
      "Who they follow:\n",
      "['5uppp', 'AustinShow', 'BotezLive', 'Chess', 'Destiny', 'DevinNash', 'Doublelift', 'Elite500', 'GMBenjaminFinegold', 'GMHikaru', 'Greekgodx', 'IKeepItTaco', 'IWillDominate', 'Jankos', 'LLStylish', 'Myth', 'Ninja', 'ParnstarZilean', 'PrimeVideo', 'RATIRL', 'Riot Games', 'Rush', 'Sanchovies', 'Shiphtur', 'SpectateTyler1', 'T90Official', 'TFBlade', 'Thijs', 'TobiasFate', 'Trainwreckstv', 'TrumpSC', 'Voyboy', 'Yassuo', 'dogdog', 'forsen', 'loltyler1', 'melina', 'pokimane', 'sodapoppin', 'summit1g', 'swimstrim', 'xFSN_Saber', 'xQcOW']\n",
      "\n",
      "\n",
      "Number of common follows: 22\n",
      "Number of uncommon follows: 66\n"
     ]
    }
   ],
   "source": [
    "# I retrieved my follows from the Twitch API and saved them to `data/my_follows.txt`\n",
    "with open(\"data/my_follows.txt\", \"r\") as f:\n",
    "    my_follows = f.read().split(\"\\n\")\n",
    "\n",
    "# convert streamer names to IDs (if they are in our list of top streamers)\n",
    "my_follows_ID = [encode_streamer[x] for x in my_follows if x in encode_streamer] \n",
    "# generate my interaction vector\n",
    "my_interactions = np.zeros(content_vecs.shape[0])\n",
    "for ind in my_follows_ID:\n",
    "    my_interactions[ind] = 1\n",
    "\n",
    "# get most similar user in training data...\n",
    "user_sim_scores = cosine_similarity(my_interactions.reshape(1,-1), train_user_items)\n",
    "most_sim_user_ID = np.argmax(user_sim_scores)\n",
    "\n",
    "# display some data\n",
    "print(\"Who I follow:\")\n",
    "print(my_follows)\n",
    "print(\"\\n\")\n",
    "print(\"Most similar user to me (ID):\", most_sim_user_ID)\n",
    "print(\"Who they follow:\")\n",
    "most_sim_user_follows = [decode_streamer[i] for i,x in enumerate(train_user_items[most_sim_user_ID,:].toarray()[0]) if x==1]\n",
    "print(most_sim_user_follows)\n",
    "print(\"\\n\")\n",
    "print(\"Number of common follows:\", len(set(my_follows).intersection(set(most_sim_user_follows))))\n",
    "print(\"Number of uncommon follows:\", len(set(my_follows).symmetric_difference(set(most_sim_user_follows))))"
   ]
  },
  {
   "cell_type": "code",
   "execution_count": 119,
   "metadata": {
    "scrolled": true
   },
   "outputs": [
    {
     "data": {
      "text/plain": [
       "[('Gosu', 0.34143364),\n",
       " ('boxbox', 0.30302092),\n",
       " ('itsHafu', 0.28715616),\n",
       " ('tarzaned', 0.27704456),\n",
       " ('shroud', 0.26817885),\n",
       " ('TwitchRivals', 0.24474329),\n",
       " ('Scarra', 0.24288088),\n",
       " ('m0xyy', 0.2417853),\n",
       " ('ludwig', 0.23346373),\n",
       " ('KarasMai', 0.2193809)]"
      ]
     },
     "execution_count": 119,
     "metadata": {},
     "output_type": "execute_result"
    }
   ],
   "source": [
    "# Recommendations for be based on this user\n",
    "[(decode_streamer[x],i) for x,i in model.recommend(userid=most_sim_user_ID, user_items=train_user_items, N=50) \\\n",
    " if x not in my_follows_ID][:10]"
   ]
  },
  {
   "cell_type": "markdown",
   "metadata": {},
   "source": [
    "Interesting results, it appears to recommend me a lot of League of Legends streamers (Gosu, boxbox, tarzaned, Scarra, KarasMai) which is one of my main interests."
   ]
  },
  {
   "cell_type": "markdown",
   "metadata": {},
   "source": [
    "# LightFM"
   ]
  },
  {
   "cell_type": "markdown",
   "metadata": {},
   "source": [
    "Factorization Machines (FM) go one step beyond traditional matrix factorization models. They allow the modeler to incoporate user features (i.e. demographic information) and item features (i.e. movie genre) into the model. More details can be found in the paper \"[Metadata embeddings for user and item cold-start recommendations](https://arxiv.org/pdf/1507.08439.pdf).\""
   ]
  },
  {
   "cell_type": "markdown",
   "metadata": {},
   "source": [
    "## Traditional CF-MF in LightFM with WARP loss\n",
    "Unlike the ALS algorithm, the LightFM library optimizes an explicit likelihood function using stochastic gradient descent (SGD). The library allows for different losses such as 'Weighted Approximate-Rank Pairwise' (WARP) and 'Bayesian Personalized Ranking' (BPR). Supposedly, WARP will lead to better peformance at the top of the rankings (`*@K` metrics) whereas BPR will lead to higher AUC. Since we're only concerned with provides 5-10 recommendations we find that WARP is more appropriate."
   ]
  },
  {
   "cell_type": "code",
   "execution_count": 120,
   "metadata": {
    "scrolled": true
   },
   "outputs": [
    {
     "name": "stdout",
     "output_type": "stream",
     "text": [
      "Epoch 0\n",
      "Epoch 1\n",
      "Epoch 2\n",
      "Epoch 3\n",
      "Epoch 4\n",
      "Epoch 5\n",
      "Epoch 6\n",
      "Epoch 7\n",
      "Epoch 8\n",
      "Epoch 9\n",
      "Epoch 10\n",
      "Epoch 11\n",
      "Epoch 12\n",
      "Epoch 13\n",
      "Epoch 14\n",
      "Epoch 15\n",
      "Epoch 16\n",
      "Epoch 17\n",
      "Epoch 18\n",
      "Epoch 19\n",
      "Epoch 20\n",
      "Epoch 21\n",
      "Epoch 22\n",
      "Epoch 23\n",
      "Epoch 24\n",
      "Epoch 25\n",
      "Epoch 26\n",
      "Epoch 27\n",
      "Epoch 28\n",
      "Epoch 29\n",
      "Epoch 30\n",
      "Epoch 31\n",
      "Epoch 32\n",
      "Epoch 33\n",
      "Epoch 34\n",
      "Epoch 35\n",
      "Epoch 36\n",
      "Epoch 37\n",
      "Epoch 38\n",
      "Epoch 39\n",
      "Epoch 40\n",
      "Epoch 41\n",
      "Epoch 42\n",
      "Epoch 43\n",
      "Epoch 44\n",
      "Epoch 45\n",
      "Epoch 46\n",
      "Epoch 47\n",
      "Epoch 48\n",
      "Epoch 49\n"
     ]
    },
    {
     "data": {
      "text/plain": [
       "<lightfm.lightfm.LightFM at 0x2411a25d308>"
      ]
     },
     "execution_count": 120,
     "metadata": {},
     "output_type": "execute_result"
    }
   ],
   "source": [
    "model = LightFM(no_components=20, learning_schedule='adagrad', loss='warp', learning_rate=0.1, random_state=r)\n",
    "model.fit(interactions=train_user_items, epochs=50, num_threads=2, verbose=True)"
   ]
  },
  {
   "cell_type": "code",
   "execution_count": 121,
   "metadata": {
    "scrolled": true
   },
   "outputs": [
    {
     "data": {
      "text/html": [
       "<div>\n",
       "<style scoped>\n",
       "    .dataframe tbody tr th:only-of-type {\n",
       "        vertical-align: middle;\n",
       "    }\n",
       "\n",
       "    .dataframe tbody tr th {\n",
       "        vertical-align: top;\n",
       "    }\n",
       "\n",
       "    .dataframe thead th {\n",
       "        text-align: right;\n",
       "    }\n",
       "</style>\n",
       "<table border=\"1\" class=\"dataframe\">\n",
       "  <thead>\n",
       "    <tr style=\"text-align: right;\">\n",
       "      <th></th>\n",
       "      <th>K=5</th>\n",
       "      <th>K=10</th>\n",
       "    </tr>\n",
       "  </thead>\n",
       "  <tbody>\n",
       "    <tr>\n",
       "      <th>P@K</th>\n",
       "      <td>0.127238</td>\n",
       "      <td>0.097342</td>\n",
       "    </tr>\n",
       "    <tr>\n",
       "      <th>R@K</th>\n",
       "      <td>0.226163</td>\n",
       "      <td>0.333418</td>\n",
       "    </tr>\n",
       "    <tr>\n",
       "      <th>MAP@K</th>\n",
       "      <td>0.082168</td>\n",
       "      <td>0.050503</td>\n",
       "    </tr>\n",
       "  </tbody>\n",
       "</table>\n",
       "</div>"
      ],
      "text/plain": [
       "            K=5      K=10\n",
       "P@K    0.127238  0.097342\n",
       "R@K    0.226163  0.333418\n",
       "MAP@K  0.082168  0.050503"
      ]
     },
     "execution_count": 121,
     "metadata": {},
     "output_type": "execute_result"
    }
   ],
   "source": [
    "def get_lightfm_eval(model, train_user_items, test_user_items, item_features=None, K_list=[5,10]):\n",
    "    data = []\n",
    "    for K in K_list:\n",
    "        pr = precision_at_k(model, test_interactions=test_user_items, train_interactions=train_user_items, \\\n",
    "                            item_features=item_features, k=K).mean()\n",
    "        re = recall_at_k(model, test_interactions=test_user_items, train_interactions=train_user_items, \\\n",
    "                         item_features=item_features, k=K).mean()\n",
    "        mean_ap = average_precision_at_k(model, test_interactions=test_user_items, train_interactions=train_user_items, \\\n",
    "                                         item_features=item_features, k=K).mean()\n",
    "        data.append( [pr, re, mean_ap] )\n",
    "        \n",
    "    df = pd.DataFrame(data=data).T\n",
    "    df.columns = [\"K=%i\" % K for K in K_list]\n",
    "    df.index = [\"P@K\", \"R@K\", \"MAP@K\"]\n",
    "    return df\n",
    "\n",
    "evals = get_lightfm_eval(model, train_user_items, val_user_items, item_features=None, K_list=[5,10])\n",
    "evals"
   ]
  },
  {
   "cell_type": "markdown",
   "metadata": {},
   "source": [
    "We see that this model has improved recall over the model from Implicit, while maintaining similar precision and mean average precision."
   ]
  },
  {
   "cell_type": "code",
   "execution_count": 123,
   "metadata": {
    "scrolled": false
   },
   "outputs": [
    {
     "data": {
      "text/plain": [
       "[('Voyboy', -1.5568833351135254),\n",
       " ('Jankos', -1.7461189031600952),\n",
       " ('Sanchovies', -2.0605523586273193),\n",
       " ('Gosu', -2.073958396911621),\n",
       " ('itsHafu', -2.0775504112243652),\n",
       " ('tarzaned', -2.2232468128204346),\n",
       " ('Scarra', -2.2937850952148438),\n",
       " ('Shiphtur', -2.316772222518921),\n",
       " ('KarasMai', -2.3610713481903076),\n",
       " ('shroud', -2.363858461380005)]"
      ]
     },
     "execution_count": 123,
     "metadata": {},
     "output_type": "execute_result"
    }
   ],
   "source": [
    "# Let's check out my recommendations again\n",
    "my_recs = model.predict(user_ids=[most_sim_user_ID], item_ids=list(range(n_items)))\n",
    "my_recs = [(decode_streamer[i],x) for i,x in enumerate(my_recs) if i not in my_follows_ID]\n",
    "sorted(my_recs, key=lambda x: -x[1])[:10]"
   ]
  },
  {
   "cell_type": "markdown",
   "metadata": {},
   "source": [
    "There are several recommendations in common with the previous model, but also a few new ones such as Sanchovies and Jankos appearing within the top 5."
   ]
  },
  {
   "cell_type": "markdown",
   "metadata": {},
   "source": [
    "## Hybrid CB/CF recommender with WARP loss\n",
    "The goal of this section is to try to improve upon our previous models by incorporating item metadata. That is we aim to develop a hybrid CB/CF recommender. CB methods are known to solve the cold-start problem that CF methods face with users or items that do not have sufficient ratings."
   ]
  },
  {
   "cell_type": "markdown",
   "metadata": {},
   "source": [
    "## Preparing item features"
   ]
  },
  {
   "cell_type": "markdown",
   "metadata": {},
   "source": [
    "In the data collection process we also retrieved data on streamers such as what games they play, stream duration, career metrics, and more. We suspect that game data may be useful for our model. \n",
    "\n",
    "To incorporate game data, we first identify the most common $n_\\text{games}$ games played by all streamers. We then create a matrix $A$ of dimension $(n_\\text{streamers}, n_\\text{games})$ to use as our item features. Each entry $a_{ij}$ represents the percentage airtime of game $j$ by streamer $i$. Note we only originally collected data on the top 10 games for each streamer, so each row will contain at most 10 nonzero entries. Furthermore the row sums need not at to unity if the streamer has played more than 10 unique games. \n",
    "\n",
    "As suggested by LightFM, we prepend an identity matrix of dimension $(n_\\text{streamer}, n_\\text{streamers})$ to $A$ so that each item gets its own *unique* feature. The following three blocks build $A$ and store in `item_features`. "
   ]
  },
  {
   "cell_type": "code",
   "execution_count": 124,
   "metadata": {},
   "outputs": [
    {
     "data": {
      "text/plain": [
       "(17178, 1378)"
      ]
     },
     "execution_count": 124,
     "metadata": {},
     "output_type": "execute_result"
    }
   ],
   "source": [
    "# get list of all games played (includes duplicates)\n",
    "games = []\n",
    "for streamer in encode_streamer:\n",
    "    df = pd.read_csv(\"data/games/%s.csv\" % streamer)\n",
    "    if len(df) > 0:\n",
    "        games.extend(df[\"Game\"].values.tolist())\n",
    "\n",
    "# total games, total unique games\n",
    "len(games), len(set(games))"
   ]
  },
  {
   "cell_type": "code",
   "execution_count": 125,
   "metadata": {},
   "outputs": [],
   "source": [
    "# get most common games and initialize matrix A of dimension (n_items, n_features)\n",
    "n_item_features = 50 # play around with this -- is more or less better? Note: More games = sparser matrix \n",
    "c = Counter(games).most_common() # games ranked in order of popularity\n",
    "most_common_games = [x for x,i in c if x not in [\"Unknown\", np.nan]][:n_item_features]\n",
    "most_common_games_lookup = {x:i for i,x in enumerate(most_common_games)}\n",
    "item_features = np.zeros((n_items, n_item_features))"
   ]
  },
  {
   "cell_type": "code",
   "execution_count": 126,
   "metadata": {
    "scrolled": false
   },
   "outputs": [],
   "source": [
    "# fill in matrix A with \"percent airtime\"\n",
    "for i,streamer in enumerate(encode_streamer):\n",
    "    df = pd.read_csv(\"data/games/%s.csv\" % streamer)\n",
    "    df = df[~df.isna().any(axis=1)]\n",
    "    if len(df) > 0:\n",
    "        games_played = df[\"Game\"].values\n",
    "        pct_airtime = df[\"Total airtime\"].apply(lambda x: x.split(\"hrs\")[1].strip(\"%\")).astype('float').values\n",
    "        idxs = [most_common_games_lookup[x] for x in games_played if x in most_common_games_lookup]\n",
    "        for j in range(len(idxs)):\n",
    "            item_features[i, idxs[j]] += pct_airtime[j]\n",
    "            \n",
    "item_features = item_features/100 # scale between 0,1\n",
    "item_features = np.hstack((np.identity(n_items), item_features)) # append identity matrix (each item gets its own \"bias\")\n",
    "item_features = sparse.csr_matrix(item_features) # convert to sparse matrix"
   ]
  },
  {
   "cell_type": "markdown",
   "metadata": {},
   "source": [
    "### Training the LightFM model with item features"
   ]
  },
  {
   "cell_type": "code",
   "execution_count": 127,
   "metadata": {},
   "outputs": [
    {
     "name": "stdout",
     "output_type": "stream",
     "text": [
      "Epoch 0\n",
      "Epoch 1\n",
      "Epoch 2\n",
      "Epoch 3\n",
      "Epoch 4\n",
      "Epoch 5\n",
      "Epoch 6\n",
      "Epoch 7\n",
      "Epoch 8\n",
      "Epoch 9\n",
      "Epoch 10\n",
      "Epoch 11\n",
      "Epoch 12\n",
      "Epoch 13\n",
      "Epoch 14\n",
      "Epoch 15\n",
      "Epoch 16\n",
      "Epoch 17\n",
      "Epoch 18\n",
      "Epoch 19\n",
      "Epoch 20\n",
      "Epoch 21\n",
      "Epoch 22\n",
      "Epoch 23\n",
      "Epoch 24\n"
     ]
    },
    {
     "data": {
      "text/plain": [
       "<lightfm.lightfm.LightFM at 0x24179abd4c8>"
      ]
     },
     "execution_count": 127,
     "metadata": {},
     "output_type": "execute_result"
    }
   ],
   "source": [
    "model = LightFM(no_components=40, learning_schedule='adagrad', loss='warp', learning_rate=0.05, item_alpha=0.0005, \\\n",
    "                user_alpha=0.0005, max_sampled=20, random_state=r)\n",
    "\n",
    "# fit with item features\n",
    "model.fit(interactions=train_user_items, user_features=None, item_features=item_features, epochs=25, \\\n",
    "          num_threads=2, verbose=True)"
   ]
  },
  {
   "cell_type": "code",
   "execution_count": 128,
   "metadata": {
    "scrolled": true
   },
   "outputs": [
    {
     "data": {
      "text/html": [
       "<div>\n",
       "<style scoped>\n",
       "    .dataframe tbody tr th:only-of-type {\n",
       "        vertical-align: middle;\n",
       "    }\n",
       "\n",
       "    .dataframe tbody tr th {\n",
       "        vertical-align: top;\n",
       "    }\n",
       "\n",
       "    .dataframe thead th {\n",
       "        text-align: right;\n",
       "    }\n",
       "</style>\n",
       "<table border=\"1\" class=\"dataframe\">\n",
       "  <thead>\n",
       "    <tr style=\"text-align: right;\">\n",
       "      <th></th>\n",
       "      <th>K=5</th>\n",
       "      <th>K=10</th>\n",
       "    </tr>\n",
       "  </thead>\n",
       "  <tbody>\n",
       "    <tr>\n",
       "      <th>P@K</th>\n",
       "      <td>0.136155</td>\n",
       "      <td>0.102515</td>\n",
       "    </tr>\n",
       "    <tr>\n",
       "      <th>R@K</th>\n",
       "      <td>0.243668</td>\n",
       "      <td>0.352885</td>\n",
       "    </tr>\n",
       "    <tr>\n",
       "      <th>MAP@K</th>\n",
       "      <td>0.088600</td>\n",
       "      <td>0.053924</td>\n",
       "    </tr>\n",
       "  </tbody>\n",
       "</table>\n",
       "</div>"
      ],
      "text/plain": [
       "            K=5      K=10\n",
       "P@K    0.136155  0.102515\n",
       "R@K    0.243668  0.352885\n",
       "MAP@K  0.088600  0.053924"
      ]
     },
     "execution_count": 128,
     "metadata": {},
     "output_type": "execute_result"
    }
   ],
   "source": [
    "evals = get_lightfm_eval(model, train_user_items, val_user_items, item_features=item_features, K_list=[5,10])\n",
    "evals"
   ]
  },
  {
   "cell_type": "markdown",
   "metadata": {},
   "source": [
    "Although slight, we appear to have improved upon the model with no item features (which is actually surprising because many modelers report that including user and item features harmed performance in their use case; see e.g. https://github.com/lyst/lightfm/issues/486). \n",
    "\n",
    "Note that there are many hyperparameters to tune here and performance of LightFM appears to be highly sensitive to these choices. A full grid search, or using a more complex hyperparameter optimization routine such as that implemented in [Hyperopt](https://github.com/hyperopt/hyperopt), could see large improvements."
   ]
  },
  {
   "cell_type": "markdown",
   "metadata": {},
   "source": [
    "### Final recommendations"
   ]
  },
  {
   "cell_type": "code",
   "execution_count": 129,
   "metadata": {
    "scrolled": true
   },
   "outputs": [],
   "source": [
    "my_recs = model.predict(user_ids=[most_sim_user_ID], item_ids=list(range(n_items)), \\\n",
    "                        user_features=None, item_features=item_features)"
   ]
  },
  {
   "cell_type": "code",
   "execution_count": 130,
   "metadata": {
    "scrolled": true
   },
   "outputs": [
    {
     "data": {
      "text/plain": [
       "[('Voyboy', 1.8115627765655518),\n",
       " ('Scarra', 1.1126089096069336),\n",
       " ('Jankos', 1.0532543659210205),\n",
       " ('Gosu', 1.0391225814819336),\n",
       " ('shroud', 0.9977701306343079),\n",
       " ('Shiphtur', 0.9266618490219116),\n",
       " ('itsHafu', 0.8668867945671082),\n",
       " ('tarzaned', 0.7602359056472778),\n",
       " ('boxbox', 0.754257321357727),\n",
       " ('dogdog', 0.7473652362823486)]"
      ]
     },
     "execution_count": 130,
     "metadata": {},
     "output_type": "execute_result"
    }
   ],
   "source": [
    "my_recs = [(decode_streamer[i],x) for i,x in enumerate(my_recs) if i not in my_follows_ID]\n",
    "sorted(my_recs, key=lambda x: -x[1])[:10]"
   ]
  },
  {
   "cell_type": "markdown",
   "metadata": {},
   "source": [
    "# The best model"
   ]
  },
  {
   "cell_type": "markdown",
   "metadata": {},
   "source": [
    "## Testing performance\n",
    "Below we report the testing performance of the best model."
   ]
  },
  {
   "cell_type": "code",
   "execution_count": 131,
   "metadata": {
    "scrolled": false
   },
   "outputs": [
    {
     "data": {
      "text/html": [
       "<div>\n",
       "<style scoped>\n",
       "    .dataframe tbody tr th:only-of-type {\n",
       "        vertical-align: middle;\n",
       "    }\n",
       "\n",
       "    .dataframe tbody tr th {\n",
       "        vertical-align: top;\n",
       "    }\n",
       "\n",
       "    .dataframe thead th {\n",
       "        text-align: right;\n",
       "    }\n",
       "</style>\n",
       "<table border=\"1\" class=\"dataframe\">\n",
       "  <thead>\n",
       "    <tr style=\"text-align: right;\">\n",
       "      <th></th>\n",
       "      <th>K=5</th>\n",
       "      <th>K=10</th>\n",
       "    </tr>\n",
       "  </thead>\n",
       "  <tbody>\n",
       "    <tr>\n",
       "      <th>P@K</th>\n",
       "      <td>0.136432</td>\n",
       "      <td>0.102253</td>\n",
       "    </tr>\n",
       "    <tr>\n",
       "      <th>R@K</th>\n",
       "      <td>0.252878</td>\n",
       "      <td>0.361051</td>\n",
       "    </tr>\n",
       "    <tr>\n",
       "      <th>MAP@K</th>\n",
       "      <td>0.088409</td>\n",
       "      <td>0.053496</td>\n",
       "    </tr>\n",
       "  </tbody>\n",
       "</table>\n",
       "</div>"
      ],
      "text/plain": [
       "            K=5      K=10\n",
       "P@K    0.136432  0.102253\n",
       "R@K    0.252878  0.361051\n",
       "MAP@K  0.088409  0.053496"
      ]
     },
     "execution_count": 131,
     "metadata": {},
     "output_type": "execute_result"
    }
   ],
   "source": [
    "evals = get_lightfm_eval(model, train_user_items, test_user_items, item_features=item_features, K_list=[5,10])\n",
    "evals"
   ]
  },
  {
   "cell_type": "markdown",
   "metadata": {},
   "source": [
    "Not bad! Within the top 5 recommendations we retrieve 25% of relevant items and within the top 10 we retrieve 36%. Of course, with implicit feedback it is hard to judge these metrics and their potential business impact. The proper way would be to conduct an A/B test and measure customer satisfication/churn. For now we'll leave it at that :)"
   ]
  },
  {
   "cell_type": "markdown",
   "metadata": {},
   "source": [
    "## Saving the best model"
   ]
  },
  {
   "cell_type": "code",
   "execution_count": 134,
   "metadata": {},
   "outputs": [],
   "source": [
    "pickle.dump(model, open(\"data/best_model/lfm_with_itemfeats_best.pkl\", 'wb'))"
   ]
  },
  {
   "cell_type": "markdown",
   "metadata": {},
   "source": [
    "Let's also save the streamer:ID encoding `encode_streamer` and necessary data (sparse matrices): `train_user_items` and `item_features`."
   ]
  },
  {
   "cell_type": "code",
   "execution_count": 135,
   "metadata": {},
   "outputs": [],
   "source": [
    "pickle.dump(train_user_items, open(\"data/best_model/train_user_items.pkl\", 'wb'))\n",
    "pickle.dump(item_features, open(\"data/best_model/item_features.pkl\", 'wb'))\n",
    "pickle.dump(encode_streamer, open(\"data/best_model/encode_streamer.pkl\", 'wb'))"
   ]
  },
  {
   "cell_type": "code",
   "execution_count": null,
   "metadata": {},
   "outputs": [],
   "source": []
  }
 ],
 "metadata": {
  "kernelspec": {
   "display_name": "Python 3",
   "language": "python",
   "name": "python3"
  },
  "language_info": {
   "codemirror_mode": {
    "name": "ipython",
    "version": 3
   },
   "file_extension": ".py",
   "mimetype": "text/x-python",
   "name": "python",
   "nbconvert_exporter": "python",
   "pygments_lexer": "ipython3",
   "version": "3.7.6"
  }
 },
 "nbformat": 4,
 "nbformat_minor": 4
}
