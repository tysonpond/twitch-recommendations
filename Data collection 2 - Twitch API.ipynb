{
 "cells": [
  {
   "cell_type": "markdown",
   "metadata": {},
   "source": [
    "# Data collection: Twitch API\n",
    "Now that we've identified the top 2k streamers and collected their data from Twitch Tracker, we use the Twitch API to get user-streamer following pairs. Specifically, we select the top 200/2k streamers and get their most recent 100 followers, totalling to 20k users. Then, for each of the 20k users, we get their entire list of streamers they follow.\n",
    "\n",
    "# Getting started with the Twitch API\n",
    "The Twitch API developer docs can be found at https://dev.twitch.tv/docs/api, within which [/reference](https://dev.twitch.tv/docs/api/reference) gives instructions on how to make API queries. \n",
    "\n",
    "To access the Twitch API you will need to register an application by following the steps at https://dev.twitch.tv/docs/api. Choose a redirect_uri (I just used http://localhost:8888 since I was working in Jupyter) and then modify `config.py` to reflect your specific client_id and redirect_uri."
   ]
  },
  {
   "cell_type": "code",
   "execution_count": 1,
   "metadata": {},
   "outputs": [],
   "source": [
    "# data processing\n",
    "import json\n",
    "\n",
    "# Requests & web scraping\n",
    "import requests\n",
    "\n",
    "# miscellaneous\n",
    "from glob import glob\n",
    "import time\n",
    "import numpy as np\n",
    "from collections import Counter\n",
    "\n",
    "# settings (API keys)\n",
    "import config"
   ]
  },
  {
   "cell_type": "markdown",
   "metadata": {},
   "source": [
    "## Authentication"
   ]
  },
  {
   "cell_type": "markdown",
   "metadata": {},
   "source": [
    "Before making API requests, we need to get a bearer token. Make sure your `config.py` file has been modified and then run the code below."
   ]
  },
  {
   "cell_type": "code",
   "execution_count": 2,
   "metadata": {},
   "outputs": [
    {
     "name": "stdout",
     "output_type": "stream",
     "text": [
      "https://id.twitch.tv/oauth2/authorize?client_id=YOUR_CLIENT_ID&redirect_uri=YOUR_REDIRECT_URI&response_type=token&scope=user:read:email&force_verify=true\n"
     ]
    }
   ],
   "source": [
    "client_id = config.client_id\n",
    "redirect_uri = config.redirect_uri\n",
    "response_type = \"token\"\n",
    "scope = \"user:read:email\"\n",
    "\n",
    "oauth_url = \"https://id.twitch.tv/oauth2/authorize?client_id=%s&redirect_uri=%s&response_type=%s&scope=%s&force_verify=true\" \\\n",
    "             % (client_id, redirect_uri, response_type, scope)\n",
    "\n",
    "print(oauth_url)"
   ]
  },
  {
   "cell_type": "markdown",
   "metadata": {},
   "source": [
    "To get your access token, click the link above. It will redirect to `https://<redirect_uri>#access_token=<an access token>`. Reopen `config.py` and modify bearer_token to reflect your specific token."
   ]
  },
  {
   "cell_type": "code",
   "execution_count": 4,
   "metadata": {},
   "outputs": [],
   "source": [
    "bearer_token = config.bearer_token"
   ]
  },
  {
   "cell_type": "markdown",
   "metadata": {},
   "source": [
    "# Data collection"
   ]
  },
  {
   "cell_type": "markdown",
   "metadata": {},
   "source": [
    "**Please see** `get_follows_data.py` **for more recent and better documented versions of the functions in this section.** We used Jupyter for developing and debugging these functions, but eventually moved to a `.py` script where we parallelized data collection using `concurrent.futures`. "
   ]
  },
  {
   "cell_type": "markdown",
   "metadata": {},
   "source": [
    "## Get streamer ID corresponding to username"
   ]
  },
  {
   "cell_type": "markdown",
   "metadata": {},
   "source": [
    "According to the Twitch API reference, Get Users Follows requires from_id or to_id and cannot take a username for either the from or to fields. Thus, before each Get User Follows query, we need to translate usernames to IDs.\n",
    "\n",
    "Below is an example of what this looks like."
   ]
  },
  {
   "cell_type": "code",
   "execution_count": 6,
   "metadata": {},
   "outputs": [
    {
     "data": {
      "text/plain": [
       "'{\"data\":[{\"id\":\"47128387\",\"login\":\"tysonpo\",\"display_name\":\"tysonpo\",\"type\":\"\",\"broadcaster_type\":\"\",\"description\":\"\",\"profile_image_url\":\"https://static-cdn.jtvnw.net/user-default-pictures-uv/ce57700a-def9-11e9-842d-784f43822e80-profile_image-300x300.png\",\"offline_image_url\":\"\",\"view_count\":42,\"email\":\"pondtyson@gmail.com\",\"created_at\":\"2013-08-04T22:06:39.878613Z\"}]}'"
      ]
     },
     "execution_count": 6,
     "metadata": {},
     "output_type": "execute_result"
    }
   ],
   "source": [
    "url = \"https://api.twitch.tv/helix/users?login=%s\" % \"tysonpo\"\n",
    "response = requests.get(url, headers={\"client-id\":client_id, \"authorization\":\"Bearer %s\" % bearer_token})\n",
    "\n",
    "response.text"
   ]
  },
  {
   "cell_type": "markdown",
   "metadata": {},
   "source": [
    "We can extract the id by doing `json.loads(response.text)[\"data\"][0][\"id\"]`. Let's define a function for this"
   ]
  },
  {
   "cell_type": "code",
   "execution_count": 7,
   "metadata": {},
   "outputs": [],
   "source": [
    "def get_user_id(user):\n",
    "    url = \"https://api.twitch.tv/helix/users?login=%s\" % user\n",
    "    response = requests.get(url, headers={\"client-id\":client_id, \"authorization\":\"Bearer %s\" % bearer_token})\n",
    "    return int(json.loads(response.text)[\"data\"][0][\"id\"])"
   ]
  },
  {
   "cell_type": "code",
   "execution_count": 8,
   "metadata": {},
   "outputs": [
    {
     "data": {
      "text/plain": [
       "71092938"
      ]
     },
     "execution_count": 8,
     "metadata": {},
     "output_type": "execute_result"
    }
   ],
   "source": [
    "# test\n",
    "ID = get_user_id(\"xqcow\")\n",
    "ID"
   ]
  },
  {
   "cell_type": "markdown",
   "metadata": {},
   "source": [
    "## Get streamer followers\n",
    "Now we can get a user's followers/following list. The example below uses the ID above and gets xQcOW's following list by using `from_id` as a url field. We limited the results to 10, but the API can get up to 100 results (per request)."
   ]
  },
  {
   "cell_type": "code",
   "execution_count": 14,
   "metadata": {},
   "outputs": [
    {
     "data": {
      "text/plain": [
       "'{\"total\":164,\"data\":[{\"from_id\":\"71092938\",\"from_name\":\"xQcOW\",\"to_id\":\"175870676\",\"to_name\":\"mbovosumo\",\"followed_at\":\"2020-11-12T08:29:48Z\"},{\"from_id\":\"71092938\",\"from_name\":\"xQcOW\",\"to_id\":\"7236692\",\"to_name\":\"DansGaming\",\"followed_at\":\"2020-10-25T12:19:11Z\"},{\"from_id\":\"71092938\",\"from_name\":\"xQcOW\",\"to_id\":\"39195074\",\"to_name\":\"TheAlbertChang\",\"followed_at\":\"2020-10-10T03:56:48Z\"},{\"from_id\":\"71092938\",\"from_name\":\"xQcOW\",\"to_id\":\"443164500\",\"to_name\":\"jamescharles\",\"followed_at\":\"2020-10-09T21:39:01Z\"},{\"from_id\":\"71092938\",\"from_name\":\"xQcOW\",\"to_id\":\"519025175\",\"to_name\":\"UltraGearGaming\",\"followed_at\":\"2020-10-03T21:56:23Z\"},{\"from_id\":\"71092938\",\"from_name\":\"xQcOW\",\"to_id\":\"72256775\",\"to_name\":\"VADIKUS007\",\"followed_at\":\"2020-10-01T10:29:37Z\"},{\"from_id\":\"71092938\",\"from_name\":\"xQcOW\",\"to_id\":\"52795976\",\"to_name\":\"GFuelEnergy\",\"followed_at\":\"2020-09-25T18:51:53Z\"},{\"from_id\":\"71092938\",\"from_name\":\"xQcOW\",\"to_id\":\"41939266\",\"to_name\":\"Gosu\",\"followed_at\":\"2020-09-08T11:56:32Z\"},{\"from_id\":\"71092938\",\"from_name\":\"xQcOW\",\"to_id\":\"7601562\",\"to_name\":\"Chess\",\"followed_at\":\"2020-08-24T23:06:51Z\"},{\"from_id\":\"71092938\",\"from_name\":\"xQcOW\",\"to_id\":\"47694770\",\"to_name\":\"souljaboy\",\"followed_at\":\"2020-08-15T17:44:32Z\"}],\"pagination\":{\"cursor\":\"eyJiIjpudWxsLCJhIjp7IkN1cnNvciI6ImV5SjBjQ0k2SW5WelpYSTZOekV3T1RJNU16ZzZabTlzYkc5M2N5SXNJblJ6SWpvaWRYTmxjam8wTnpZNU5EYzNNQ0lzSW1sd0lqb2lkWE5sY2pvM01UQTVNamt6T0RwbWIyeHNiM2R6SWl3aWFYTWlPaUl4TlRrM05URXpORGN5TnpFM09EazVOamt5SW4wPSJ9fQ\"}}'"
      ]
     },
     "execution_count": 14,
     "metadata": {},
     "output_type": "execute_result"
    }
   ],
   "source": [
    "max_results = 10\n",
    "url = \"https://api.twitch.tv/helix/users/follows?from_id=%i&first=%i\" % (ID, max_results)\n",
    "response = requests.get(url, headers={\"client-id\":client_id, \"authorization\":\"Bearer %s\" % bearer_token})\n",
    "\n",
    "response.text"
   ]
  },
  {
   "cell_type": "markdown",
   "metadata": {},
   "source": [
    "We can extract just the following list:"
   ]
  },
  {
   "cell_type": "code",
   "execution_count": 15,
   "metadata": {
    "scrolled": true
   },
   "outputs": [
    {
     "data": {
      "text/plain": [
       "['mbovosumo',\n",
       " 'DansGaming',\n",
       " 'TheAlbertChang',\n",
       " 'jamescharles',\n",
       " 'UltraGearGaming',\n",
       " 'VADIKUS007',\n",
       " 'GFuelEnergy',\n",
       " 'Gosu',\n",
       " 'Chess',\n",
       " 'souljaboy']"
      ]
     },
     "execution_count": 15,
     "metadata": {},
     "output_type": "execute_result"
    }
   ],
   "source": [
    "[x[\"to_name\"] for x in json.loads(response.text)[\"data\"]]"
   ]
  },
  {
   "cell_type": "markdown",
   "metadata": {},
   "source": [
    "Below we define a general function for getting user followers/following data."
   ]
  },
  {
   "cell_type": "code",
   "execution_count": 16,
   "metadata": {},
   "outputs": [],
   "source": [
    "def get_follow_data(ID, kind=\"followers\", cursor=None, return_pagination=False, max_results=100, fmt=None):\n",
    "    if kind == \"followers\":\n",
    "        url_field, opp = \"to\", \"from\"\n",
    "    else: # following\n",
    "        url_field, opp = \"from\", \"to\"\n",
    "    if cursor:\n",
    "        url = \"https://api.twitch.tv/helix/users/follows?%s_id=%i&first=%i&after=%s\" % (url_field, ID, max_results, cursor)\n",
    "    else:\n",
    "        url = \"https://api.twitch.tv/helix/users/follows?%s_id=%i&first=%i\" % (url_field, ID, max_results)\n",
    "        \n",
    "    response = requests.get(url, headers={\"client-id\":client_id, \"authorization\":\"Bearer %s\" % bearer_token})\n",
    "    data = json.loads(response.text)\n",
    "    \n",
    "    if not data:\n",
    "        return \"NA\"\n",
    "\n",
    "    # FORMAT\n",
    "    # 1. Get streamer followers\n",
    "    # {\"ID\":streamer_ID, \"followers\":[follower_id1, follower_id2, ...]}\n",
    "    # 2. Get user follows\n",
    "    # {\"following\":[[streamer_name1, time_followed1] , [streamer_name2, time_followed2] , ...]  }\n",
    "    # 3. Generic get list of follows\n",
    "    # [follow1, follow2, ...]\n",
    "    if fmt == 1:\n",
    "        follow_data = {\"ID\":ID, \"followers\":[x[\"%s_id\" % opp] for x in data[\"data\"]]}\n",
    "    elif fmt == 2:\n",
    "        follow_data = {ID: {\"total\":data[\"total\"], \"following\": [[x[\"%s_name\" % opp], x[\"followed_at\"]] for x in data[\"data\"]]}}\n",
    "    else:\n",
    "        follow_data = [x[\"%s_id\" % opp] for x in data[\"data\"]]\n",
    "    \n",
    "    if return_pagination:\n",
    "        pagination = data[\"pagination\"]\n",
    "        if \"cursor\" in pagination:\n",
    "            pagination = pagination[\"cursor\"]\n",
    "        return follow_data, pagination\n",
    "        \n",
    "    return follow_data\n",
    "\n",
    "def get_all_follow_data(ID, kind=\"followers\", cursor=None, fmt=None, sleep_time=1):\n",
    "    \n",
    "    # make 1 query and return cursor (in case no cursor was specified)\n",
    "    follow_data, cursor = get_follow_data(ID, kind, cursor, return_pagination=True, max_results=100, fmt=fmt)\n",
    "        \n",
    "    # if there are < 1 full page of results, we can stop here\n",
    "    if not cursor:\n",
    "        return follow_data\n",
    "    \n",
    "    # else we recursively get each page\n",
    "    count = 100 # we will cap results to 1000\n",
    "    while cursor and count < 1000:\n",
    "        results, cursor = get_follow_data(ID, kind, cursor, return_pagination=True, max_results=100, fmt=fmt)\n",
    "        if fmt == 1:\n",
    "            follow_data[\"followers\"] = follow_data[\"followers\"] + results[\"followers\"]\n",
    "        elif fmt == 2:\n",
    "            follow_data[ID][\"following\"] = follow_data[ID][\"following\"] + results[ID][\"following\"]\n",
    "        else:\n",
    "            follow_data.extend(results)\n",
    "        time.sleep(sleep_time)\n",
    "        \n",
    "        count += 100\n",
    "        \n",
    "    return follow_data"
   ]
  },
  {
   "cell_type": "markdown",
   "metadata": {},
   "source": [
    "## For each user, get their follow data"
   ]
  },
  {
   "cell_type": "code",
   "execution_count": 20,
   "metadata": {},
   "outputs": [],
   "source": [
    "user_list = [94753024, 71092938]\n",
    "for user in user_list:\n",
    "    data = get_all_follow_data(user, kind=\"following\", cursor=None, fmt=2, sleep_time=1)"
   ]
  },
  {
   "cell_type": "code",
   "execution_count": 18,
   "metadata": {
    "scrolled": true
   },
   "outputs": [
    {
     "data": {
      "text/plain": [
       "{94753024: {'total': 333,\n",
       "  'following': [['SteveAoki', '2020-11-16T00:55:55Z'],\n",
       "   ['Twitch', '2020-11-13T19:47:50Z'],\n",
       "   ['IslandGrown', '2020-11-09T07:50:05Z'],\n",
       "   ['sashagrey', '2020-11-05T20:56:03Z'],\n",
       "   ['lilyachty', '2020-11-04T10:56:35Z'],\n",
       "   ['MK64MR', '2020-11-02T02:57:01Z'],\n",
       "   ['artesianbuilds', '2020-10-29T19:19:56Z'],\n",
       "   ['TheEret', '2020-10-27T02:00:09Z'],\n",
       "   ['Masayoshi', '2020-10-23T03:15:47Z'],\n",
       "   ['crystalboyisland', '2020-10-22T03:49:31Z'],\n",
       "   ['Nihachu', '2020-10-21T20:19:23Z'],\n",
       "   ['AOC', '2020-10-21T00:56:24Z'],\n",
       "   ['lukeafkfan', '2020-10-19T21:34:25Z'],\n",
       "   ['TheAlbertChang', '2020-10-10T03:45:52Z'],\n",
       "   ['Punz', '2020-10-06T23:03:54Z'],\n",
       "   ['Natsumiii', '2020-10-05T06:46:01Z'],\n",
       "   ['Sapnap', '2020-10-04T23:43:54Z'],\n",
       "   ['Tubbo', '2020-10-04T20:38:20Z'],\n",
       "   ['Lacari', '2020-10-04T04:57:45Z'],\n",
       "   ['eaJParkOfficial', '2020-10-02T23:45:20Z'],\n",
       "   ['5uppp', '2020-09-26T09:53:03Z'],\n",
       "   ['illumina1337', '2020-09-18T10:39:00Z'],\n",
       "   ['jacksepticeye', '2020-09-16T21:37:36Z'],\n",
       "   ['jschlatt', '2020-09-14T23:24:55Z'],\n",
       "   ['Sykkuno', '2020-09-13T07:15:03Z'],\n",
       "   ['GeorgeNotFound', '2020-09-12T20:05:55Z'],\n",
       "   ['TheBigChiklis', '2020-09-07T10:00:14Z'],\n",
       "   ['michaelreeves', '2020-09-04T09:04:37Z'],\n",
       "   ['iGotTheJoos', '2020-09-01T08:12:06Z'],\n",
       "   ['DavidDobrik', '2020-08-30T02:25:56Z'],\n",
       "   ['watchVENN', '2020-08-29T21:53:46Z'],\n",
       "   ['karljacobs', '2020-08-26T22:11:57Z'],\n",
       "   ['FundyLIVE', '2020-08-26T22:10:00Z'],\n",
       "   ['sylveey', '2020-08-26T21:19:19Z'],\n",
       "   ['LeafyLive', '2020-08-25T23:00:02Z'],\n",
       "   ['CashApp', '2020-08-23T07:57:00Z'],\n",
       "   ['muffnbuttn', '2020-08-20T08:44:14Z'],\n",
       "   ['Saenokun', '2020-08-20T08:04:40Z'],\n",
       "   ['Wojitoo', '2020-08-20T07:41:01Z'],\n",
       "   ['charlesjonesmusic', '2020-08-20T06:45:03Z'],\n",
       "   ['RyanMcCarty', '2020-08-18T00:12:32Z'],\n",
       "   ['supertf', '2020-08-17T03:15:29Z'],\n",
       "   ['minecraft116789', '2020-08-16T22:57:48Z'],\n",
       "   ['TwitchPresents', '2020-08-16T03:19:00Z'],\n",
       "   ['JessicaBlevins', '2020-08-15T01:15:05Z'],\n",
       "   ['nesua', '2020-08-14T11:23:42Z'],\n",
       "   ['EasyRod', '2020-08-14T06:58:21Z'],\n",
       "   ['twomad', '2020-08-12T04:01:07Z'],\n",
       "   ['Saiiren', '2020-08-11T08:50:50Z'],\n",
       "   ['missgeechan', '2020-08-11T06:25:35Z'],\n",
       "   ['GoneDoc', '2020-08-09T22:09:18Z'],\n",
       "   ['Yetiapocalypse', '2020-08-09T07:58:53Z'],\n",
       "   ['Atrioc', '2020-08-09T05:46:55Z'],\n",
       "   ['MargauxBrooke', '2020-08-08T10:28:00Z'],\n",
       "   ['roflgator', '2020-08-08T08:22:36Z'],\n",
       "   ['bnans', '2020-08-08T04:30:07Z'],\n",
       "   ['ludwig', '2020-08-07T00:06:50Z'],\n",
       "   ['willneff', '2020-08-05T11:00:36Z'],\n",
       "   ['neeko', '2020-08-05T07:21:45Z'],\n",
       "   ['Plushys', '2020-07-30T00:09:34Z'],\n",
       "   ['tommyinnit', '2020-07-27T20:52:27Z'],\n",
       "   ['dreamwastaken', '2020-07-27T10:32:37Z'],\n",
       "   ['4Conner', '2020-07-27T06:32:38Z'],\n",
       "   ['SypherPK', '2020-07-23T20:49:29Z'],\n",
       "   ['knuckleheadyt', '2020-07-23T07:01:20Z'],\n",
       "   ['DashDucks', '2020-07-23T06:53:38Z'],\n",
       "   ['CoreyTheGuy', '2020-07-16T11:28:39Z'],\n",
       "   ['VADIKUS007', '2020-07-13T11:15:03Z'],\n",
       "   ['harrymackofficial', '2020-07-12T02:27:39Z'],\n",
       "   ['Graycen', '2020-07-10T10:02:05Z'],\n",
       "   ['Kobe0802', '2020-07-10T08:06:10Z'],\n",
       "   ['NICKMERCS', '2020-07-10T00:11:38Z'],\n",
       "   ['richwcampbell', '2020-07-09T23:26:13Z'],\n",
       "   ['ChuckECheese', '2020-07-09T20:25:51Z'],\n",
       "   ['souljaboy', '2020-07-09T00:44:54Z'],\n",
       "   ['zackrawrr', '2020-07-07T23:11:04Z'],\n",
       "   ['Deansocool', '2020-07-07T03:23:26Z'],\n",
       "   ['Destiny', '2020-07-03T21:58:04Z'],\n",
       "   ['YungLlama', '2020-07-01T06:35:54Z'],\n",
       "   ['AMPDigital', '2020-06-30T01:04:33Z'],\n",
       "   ['poopernoodle', '2020-06-30T00:44:01Z'],\n",
       "   ['Doggydogg20', '2020-06-22T08:25:28Z'],\n",
       "   ['lunarjump', '2020-06-22T08:21:13Z'],\n",
       "   ['BotezLive', '2020-06-22T00:49:57Z'],\n",
       "   ['FEDMYSTER2', '2020-06-20T08:35:29Z'],\n",
       "   ['GMHikaru', '2020-06-18T15:09:18Z'],\n",
       "   ['IMHansNiemann', '2020-06-17T07:55:29Z'],\n",
       "   ['しんじさん', '2020-06-14T05:19:04Z'],\n",
       "   ['keyPxd', '2020-06-10T01:40:21Z'],\n",
       "   ['VegaBoi', '2020-05-30T23:52:16Z'],\n",
       "   ['puncayshun', '2020-05-26T04:02:47Z'],\n",
       "   ['Simply', '2020-05-21T20:28:50Z'],\n",
       "   ['rsgloryandgold', '2020-05-20T02:38:57Z'],\n",
       "   ['gusjohnson', '2020-05-19T20:21:27Z'],\n",
       "   ['Summoningsalt', '2020-05-19T13:26:21Z'],\n",
       "   ['SwaggerSouls', '2020-05-18T04:35:19Z'],\n",
       "   ['Jawsh', '2020-05-18T03:14:46Z'],\n",
       "   ['Dwhatever', '2020-05-12T11:14:36Z'],\n",
       "   ['Ambish', '2020-05-09T21:41:17Z'],\n",
       "   ['SimpleFlips', '2020-05-08T08:52:08Z'],\n",
       "   ['jonathanantoine', '2020-05-03T13:22:12Z'],\n",
       "   ['TPAIN', '2020-05-02T12:42:52Z'],\n",
       "   ['WilburSoot', '2020-05-02T12:03:26Z'],\n",
       "   ['akki941', '2020-05-01T12:30:00Z'],\n",
       "   ['Wilko', '2020-04-30T14:04:20Z'],\n",
       "   ['broxh_', '2020-04-29T01:07:22Z'],\n",
       "   ['DSKoopa', '2020-04-28T00:49:20Z'],\n",
       "   ['Zedd', '2020-04-27T00:30:55Z'],\n",
       "   ['Sobiez', '2020-04-26T05:39:07Z'],\n",
       "   ['IssaGrill', '2020-04-25T10:05:32Z'],\n",
       "   ['wantep', '2020-04-24T10:08:55Z'],\n",
       "   ['Lexitivity', '2020-04-24T09:53:56Z'],\n",
       "   ['waterlynn', '2020-04-24T08:16:25Z'],\n",
       "   ['OnlySonic', '2020-04-24T02:16:58Z'],\n",
       "   ['InvaderVie', '2020-04-23T03:10:29Z'],\n",
       "   ['QuackityHQ', '2020-04-18T09:54:08Z'],\n",
       "   ['Zoil', '2020-04-15T12:25:14Z'],\n",
       "   ['Jellypeanut', '2020-04-12T23:03:09Z'],\n",
       "   ['Macaiyla', '2020-04-09T19:11:49Z'],\n",
       "   ['dizzy', '2020-04-08T23:13:53Z'],\n",
       "   ['sennyk4', '2020-04-02T09:16:48Z'],\n",
       "   ['rnizklf', '2020-03-30T16:02:19Z'],\n",
       "   ['Hungrybox', '2020-03-26T07:26:03Z'],\n",
       "   ['soap', '2020-03-26T06:03:34Z'],\n",
       "   ['traves', '2020-03-25T06:56:47Z'],\n",
       "   ['Blex__', '2020-03-24T11:49:55Z'],\n",
       "   ['QuarterJade', '2020-03-22T11:28:06Z'],\n",
       "   ['fuslie', '2020-03-22T11:27:31Z'],\n",
       "   ['Mendo', '2020-03-18T05:44:36Z'],\n",
       "   ['goblincub', '2020-03-18T04:11:21Z'],\n",
       "   ['CriticalRole', '2020-03-13T05:39:36Z'],\n",
       "   ['yvonnie', '2020-02-29T04:58:08Z'],\n",
       "   ['erob219', '2020-02-27T02:16:37Z'],\n",
       "   ['Yuggie_TV', '2020-02-26T06:20:15Z'],\n",
       "   ['witwix', '2020-02-25T08:13:15Z'],\n",
       "   ['slwalekoP', '2020-02-24T10:34:13Z'],\n",
       "   ['Eloise', '2020-02-24T08:13:15Z'],\n",
       "   ['Jinnytty', '2020-02-23T21:47:51Z'],\n",
       "   ['ConnorEatsPants', '2020-02-15T03:43:45Z'],\n",
       "   ['nikkibreanne', '2020-02-14T07:53:34Z'],\n",
       "   ['Ms_Tricky', '2020-02-09T20:10:59Z'],\n",
       "   ['ItsMePerseus', '2020-02-06T13:11:58Z'],\n",
       "   ['ironosity', '2020-02-06T12:04:49Z'],\n",
       "   ['QTCinderella', '2020-01-24T05:31:19Z'],\n",
       "   ['bigbodybigfoot', '2020-01-20T09:28:36Z'],\n",
       "   ['HasanAbi', '2020-01-20T05:32:43Z'],\n",
       "   ['NOHITJEROME', '2020-01-18T10:00:06Z'],\n",
       "   ['rookily', '2020-01-18T04:19:11Z'],\n",
       "   ['salmonboyyy', '2020-01-18T04:08:08Z'],\n",
       "   ['Omnee_', '2020-01-17T07:00:42Z'],\n",
       "   ['nemz', '2020-01-17T02:22:49Z'],\n",
       "   ['Nemz38', '2020-01-17T02:08:05Z'],\n",
       "   ['wildearth', '2020-01-16T04:59:28Z'],\n",
       "   ['taviansmith', '2020-01-15T09:18:11Z'],\n",
       "   ['Alinity', '2020-01-14T20:48:18Z'],\n",
       "   ['DevinNash', '2020-01-14T20:44:09Z'],\n",
       "   ['HealthyGamer_GG', '2020-01-11T03:17:51Z'],\n",
       "   ['americaneaglefoundation', '2020-01-10T21:40:44Z'],\n",
       "   ['kaceytron', '2020-01-02T16:57:14Z'],\n",
       "   ['FOUSEY', '2020-01-02T08:38:30Z'],\n",
       "   ['airsoftphatty', '2019-12-27T22:10:09Z'],\n",
       "   ['Katerino', '2019-12-27T01:38:37Z'],\n",
       "   ['LuluLuvely', '2019-12-10T21:12:54Z'],\n",
       "   ['ItsSlikeR', '2019-11-28T19:05:07Z'],\n",
       "   ['LIRIK', '2019-11-24T00:07:56Z'],\n",
       "   ['lilypichu', '2019-11-21T03:53:01Z'],\n",
       "   ['Koaster', '2019-11-20T21:56:16Z'],\n",
       "   ['syn4ack', '2019-11-20T08:05:45Z'],\n",
       "   ['loltyler1', '2019-11-19T07:43:01Z'],\n",
       "   ['39daph', '2019-11-19T04:30:53Z'],\n",
       "   ['emilyfreakinjane', '2019-11-19T04:02:59Z'],\n",
       "   ['moistcr1tikal', '2019-11-19T03:21:39Z'],\n",
       "   ['CallMeCarsonLIVE', '2019-11-19T03:11:35Z'],\n",
       "   ['adeptthebest', '2019-11-19T01:33:15Z'],\n",
       "   ['erobb221', '2019-11-19T01:32:53Z'],\n",
       "   ['pokimane', '2019-11-18T23:54:04Z'],\n",
       "   ['Pamzee', '2019-10-31T01:33:16Z'],\n",
       "   ['Skul11xx', '2019-10-15T23:34:53Z'],\n",
       "   ['cloakzy', '2019-10-15T07:55:54Z'],\n",
       "   ['Fitz', '2019-10-06T06:22:25Z'],\n",
       "   ['jaystreazy', '2019-10-03T20:42:43Z'],\n",
       "   ['Jerma985', '2019-09-25T21:07:10Z'],\n",
       "   ['UsernameCliche', '2019-09-18T07:31:59Z'],\n",
       "   ['The_Happy_Hob', '2019-09-10T02:17:47Z'],\n",
       "   ['jimbobgamingx', '2019-09-01T00:45:35Z'],\n",
       "   ['JumboFlex_', '2019-08-31T01:41:13Z'],\n",
       "   ['Giantwaffle', '2019-08-28T07:07:04Z'],\n",
       "   ['heyimbee', '2019-08-20T10:10:14Z'],\n",
       "   ['HAchubby', '2019-08-20T08:46:27Z'],\n",
       "   ['Myth', '2019-08-17T03:33:15Z'],\n",
       "   ['bokhalid99', '2019-08-16T23:18:36Z'],\n",
       "   ['Maya', '2019-08-16T01:06:40Z'],\n",
       "   ['chrisblackwood', '2019-08-08T09:52:36Z'],\n",
       "   ['dogdog', '2019-07-27T18:33:25Z'],\n",
       "   ['Becca', '2019-07-10T20:55:23Z'],\n",
       "   ['JonZherka', '2019-07-10T09:56:59Z'],\n",
       "   ['TidesofTime', '2019-07-04T08:14:39Z'],\n",
       "   ['jamescharles', '2019-06-29T04:09:17Z'],\n",
       "   ['itsHafu', '2019-06-27T10:15:59Z'],\n",
       "   ['Scarra', '2019-06-27T05:48:04Z'],\n",
       "   ['ssoggyy', '2019-06-26T23:37:09Z'],\n",
       "   ['hmmmmnn', '2019-06-23T03:22:41Z'],\n",
       "   ['Symfuhny', '2019-06-21T10:31:20Z'],\n",
       "   ['PinkWardlol', '2019-06-21T10:14:49Z'],\n",
       "   ['lara6683', '2019-06-19T06:16:12Z'],\n",
       "   ['BrookeAB', '2019-06-18T22:19:57Z'],\n",
       "   ['blissfulli', '2019-06-18T08:38:37Z'],\n",
       "   ['cheese', '2019-06-14T02:49:05Z'],\n",
       "   ['boxbox', '2019-06-08T04:08:37Z'],\n",
       "   ['Quin69', '2019-06-06T23:00:02Z'],\n",
       "   ['AnnieFuchsia', '2019-06-04T04:31:46Z'],\n",
       "   ['Tfue', '2019-06-02T21:12:48Z'],\n",
       "   ['snutzy', '2019-06-02T20:51:09Z'],\n",
       "   ['Yassuo', '2019-05-31T10:11:09Z'],\n",
       "   ['Sordiway', '2019-05-29T23:36:50Z'],\n",
       "   ['SONII', '2019-05-27T22:50:08Z'],\n",
       "   ['pokelawls', '2019-05-26T09:56:08Z'],\n",
       "   ['dafran', '2019-05-24T09:33:29Z'],\n",
       "   ['Bean', '2019-05-24T07:56:45Z'],\n",
       "   ['Tenike', '2019-05-18T11:37:31Z'],\n",
       "   ['MethodJosh', '2019-04-20T22:08:22Z'],\n",
       "   ['PaymoneyWubby', '2019-04-09T22:21:27Z'],\n",
       "   ['Greekgodx', '2019-03-26T08:17:10Z'],\n",
       "   ['ewokttv', '2019-03-11T01:14:01Z'],\n",
       "   ['yourticket', '2019-02-09T01:50:01Z'],\n",
       "   ['Supercool', '2019-01-21T02:38:54Z'],\n",
       "   ['aimbotcalvin', '2018-12-17T11:14:53Z'],\n",
       "   ['Leffen', '2018-12-14T00:23:05Z'],\n",
       "   ['mang0', '2018-12-11T23:10:21Z'],\n",
       "   ['MOONMOON', '2018-12-08T21:05:56Z'],\n",
       "   ['yellowspoongirl', '2018-11-30T07:40:29Z'],\n",
       "   ['Trainwreckstv', '2018-11-30T05:03:27Z'],\n",
       "   ['JuliaMango', '2018-11-29T03:21:37Z'],\n",
       "   ['skull_______________', '2018-11-26T00:42:03Z'],\n",
       "   ['OverpoweredOW', '2018-11-24T10:44:04Z'],\n",
       "   ['Grossie_Gore', '2018-11-21T04:00:25Z'],\n",
       "   ['sodapoppin', '2018-11-19T07:07:04Z'],\n",
       "   ['jaycgee', '2018-11-19T06:04:45Z'],\n",
       "   ['ClintStevens', '2018-11-17T10:16:34Z'],\n",
       "   ['Dyrus', '2018-11-16T12:27:14Z'],\n",
       "   ['Alecludford', '2018-11-16T04:53:36Z'],\n",
       "   ['DisguisedToast', '2018-11-13T00:33:01Z'],\n",
       "   ['Amouranth', '2018-11-10T02:08:27Z'],\n",
       "   ['Kandyland', '2018-11-10T01:10:50Z'],\n",
       "   ['nl_Kripp', '2018-11-08T08:20:19Z'],\n",
       "   ['Riley', '2018-11-07T02:04:03Z'],\n",
       "   ['BergsBrew', '2018-11-06T07:59:08Z'],\n",
       "   ['Warcraft', '2018-11-04T00:45:47Z'],\n",
       "   ['veronaXD', '2018-11-03T07:59:34Z'],\n",
       "   ['Sabev', '2018-10-31T22:38:02Z'],\n",
       "   ['Sweet_Anita', '2018-10-30T23:02:27Z'],\n",
       "   ['Yuber', '2018-10-30T22:25:46Z'],\n",
       "   ['tipsoutbaby', '2018-10-22T17:45:02Z'],\n",
       "   ['Lord_Kirk', '2018-10-15T09:25:50Z'],\n",
       "   ['Takarita', '2018-10-14T10:06:44Z'],\n",
       "   ['AvoidingThePuddle', '2018-10-12T23:23:44Z'],\n",
       "   ['CrazySlick', '2018-10-09T08:40:20Z'],\n",
       "   ['Hands', '2018-10-08T23:06:36Z'],\n",
       "   ['AyaValasca', '2018-10-06T08:56:13Z'],\n",
       "   ['Russel', '2018-10-05T11:21:53Z'],\n",
       "   ['trihex', '2018-10-05T09:09:38Z'],\n",
       "   ['Jenna', '2018-10-03T21:37:20Z'],\n",
       "   ['m0xyy', '2018-10-01T10:39:39Z'],\n",
       "   ['TheMu', '2018-09-29T08:07:55Z'],\n",
       "   ['Knut', '2018-09-28T11:06:17Z'],\n",
       "   ['shroud', '2018-09-28T04:45:15Z'],\n",
       "   ['Dareon', '2018-09-25T06:41:33Z'],\n",
       "   ['DeathlyShad0w', '2018-09-21T21:51:14Z'],\n",
       "   ['KBubblez', '2018-09-20T06:26:32Z'],\n",
       "   ['snailboi808', '2018-09-16T07:40:43Z'],\n",
       "   ['TimTheTatman', '2018-09-14T00:38:04Z'],\n",
       "   ['Namisoraitzy', '2018-09-09T05:03:23Z'],\n",
       "   ['jakenbakeLIVE', '2018-09-05T09:32:54Z'],\n",
       "   ['Plebo', '2018-08-31T10:24:06Z'],\n",
       "   ['Black', '2018-08-30T06:41:03Z'],\n",
       "   ['bathrobe_dwane', '2018-08-29T02:39:20Z'],\n",
       "   ['Boneclinks', '2018-08-15T08:00:39Z'],\n",
       "   ['Guzu', '2018-08-09T18:04:12Z'],\n",
       "   ['cumonmyface29076', '2018-08-07T06:30:43Z'],\n",
       "   ['FEDMYSTER', '2018-08-07T06:08:26Z'],\n",
       "   ['mcilreavey', '2018-08-06T10:37:27Z'],\n",
       "   ['DKane', '2018-07-28T20:53:03Z'],\n",
       "   ['NymN', '2018-07-27T00:43:10Z'],\n",
       "   ['summit1g', '2018-07-25T06:48:48Z'],\n",
       "   ['CPalm', '2018-07-24T21:56:08Z'],\n",
       "   ['Alodar', '2018-07-21T09:43:37Z'],\n",
       "   ['TrackSuit_Cx', '2018-07-19T22:05:52Z'],\n",
       "   ['Swifty', '2018-07-12T07:43:25Z'],\n",
       "   ['OctobersYT', '2018-07-06T09:58:50Z'],\n",
       "   ['StaysafeTV', '2018-07-06T09:45:01Z'],\n",
       "   ['cyr', '2018-06-23T07:19:22Z'],\n",
       "   ['EsfandTV', '2018-06-23T02:25:51Z'],\n",
       "   ['Tmugsy', '2018-06-20T09:00:55Z'],\n",
       "   ['Rawb_Dawg', '2018-06-17T23:58:00Z'],\n",
       "   ['Voldesad', '2018-05-19T20:19:53Z'],\n",
       "   ['Nmplol', '2018-05-10T03:03:49Z'],\n",
       "   ['laribug', '2018-05-01T01:53:37Z'],\n",
       "   ['d3adscene', '2018-04-23T06:27:00Z'],\n",
       "   ['xQcOW', '2018-04-13T07:35:31Z'],\n",
       "   ['AustinShow', '2018-04-06T00:36:14Z'],\n",
       "   ['Celeste', '2018-03-31T08:53:15Z'],\n",
       "   ['lilboredx', '2018-03-29T18:57:22Z'],\n",
       "   ['AndyMilonakis', '2018-03-24T08:00:36Z'],\n",
       "   ['skippypoppin', '2018-03-16T07:00:05Z'],\n",
       "   ['Dankquan', '2018-03-06T08:54:28Z'],\n",
       "   ['forsen', '2018-03-05T00:02:54Z'],\n",
       "   ['watchmeblink', '2018-03-04T02:25:34Z'],\n",
       "   ['anything4views', '2018-02-28T06:26:24Z'],\n",
       "   ['LilAaronTheOwl', '2018-02-27T09:38:09Z'],\n",
       "   ['Hyphonix', '2018-02-24T09:32:47Z'],\n",
       "   ['GlinkLive', '2018-02-04T10:00:44Z'],\n",
       "   ['Boogie2988', '2018-01-15T05:21:24Z'],\n",
       "   ['pomskie', '2018-01-03T05:45:37Z'],\n",
       "   ['Ninja', '2017-12-17T22:14:22Z'],\n",
       "   ['McconnellRet', '2017-12-10T08:26:53Z'],\n",
       "   ['Indiefoxx', '2017-12-05T07:14:22Z'],\n",
       "   ['notmes', '2017-11-28T08:48:06Z'],\n",
       "   ['kootkit', '2017-11-24T07:25:24Z'],\n",
       "   ['Asmongold', '2017-11-12T21:01:31Z'],\n",
       "   ['wisbowmen', '2017-11-10T06:31:25Z'],\n",
       "   ['gwonkykong', '2017-10-03T06:52:33Z'],\n",
       "   ['Cellutron', '2017-09-23T05:27:32Z'],\n",
       "   ['KEEMSTAR', '2017-04-22T04:09:27Z'],\n",
       "   ['viannavolexa', '2017-04-09T09:06:59Z'],\n",
       "   ['costingtv', '2017-04-09T03:27:27Z'],\n",
       "   ['dragonslayerr0', '2017-03-24T02:17:22Z'],\n",
       "   ['xshaebabyx', '2017-03-20T05:45:31Z'],\n",
       "   ['Scufious', '2017-03-19T05:49:44Z'],\n",
       "   ['cdewx', '2017-03-15T07:21:09Z'],\n",
       "   ['MitchJones', '2017-03-15T07:21:02Z'],\n",
       "   ['Ice_Poseidon', '2017-03-15T07:20:36Z'],\n",
       "   ['supatease', '2016-08-08T19:07:15Z'],\n",
       "   ['venruki', '2016-08-04T19:07:14Z']]}}"
      ]
     },
     "execution_count": 18,
     "metadata": {},
     "output_type": "execute_result"
    }
   ],
   "source": [
    "data"
   ]
  },
  {
   "cell_type": "markdown",
   "metadata": {},
   "source": [
    "## Data inspection\n",
    "After collecting the data using `get_follow_data.py` let's take a look at what we have."
   ]
  },
  {
   "cell_type": "code",
   "execution_count": 37,
   "metadata": {
    "scrolled": false
   },
   "outputs": [
    {
     "name": "stdout",
     "output_type": "stream",
     "text": [
      "Total number of users: 15997\n",
      "Total follows possible: 1110148\n",
      "Actual follows collected: 1023790\n",
      "Number of unique follows: 264744\n"
     ]
    }
   ],
   "source": [
    "total = 0\n",
    "follows = []\n",
    "with open(\"data/user_follows.json\", \"r\") as f:\n",
    "    data = json.load(f)\n",
    "    for d in data.values():\n",
    "        total += d[\"total\"]\n",
    "        follows.extend([x[0] for x in d[\"following\"]])\n",
    "        \n",
    "print(\"Total number of users:\", len(data)) # i.e. number of unique users\n",
    "print(\"Total follows possible:\", total) # total amount of data if we did not cap at 1k streamers/user\n",
    "print(\"Actual follows collected:\", len(follows)) # actual amount of data due to capping at 1k streamers/user\n",
    "print(\"Number of unique follows:\", len(set(follows))) # i.e. number of unique streamers"
   ]
  },
  {
   "cell_type": "code",
   "execution_count": 55,
   "metadata": {},
   "outputs": [
    {
     "name": "stdout",
     "output_type": "stream",
     "text": [
      "Avg streamer follows per user 63.99887478902294\n",
      "Avg users following per streamer 3.8670942495391776\n",
      "Number of 'streamers' with > 4 follows 26769\n"
     ]
    }
   ],
   "source": [
    "counter = Counter(follows).most_common()\n",
    "counts = [count for name,count in counter]\n",
    "print(\"Avg streamer follows per user\", len(follows)/len(data))\n",
    "print(\"Avg users following per streamer\", np.mean(counts))\n",
    "print(\"Number of streamers with > 4 follows\", len([x for x in counts if x > 4]) )"
   ]
  },
  {
   "cell_type": "markdown",
   "metadata": {},
   "source": [
    "To summarize:\n",
    "- 15.9k Twitch users\n",
    "- 1.02m retrieved follows (\"ratings\"); this is 92.22% of total follows (1.11m) due to capping at 1k, NOT BAD\n",
    "- 264.7k unique follows  (\"items\")\n",
    "\n",
    "Considerations:\n",
    "- Most \"streamers\" are followed only once or twice in our data, only 26.7k have more than 4 followers. This suggests most of the 264k unique streamers are either: (i) not popular, (ii) not actually streamers, but rather Twitch users that people follow. In my mind, this is an issue with Twitch -- I have 6 followers but I've never streamed (why do they follow me?).\n",
    "- Our user-item matrix is 15.9k x 264.7k -- we need to reduce this size. If we take streamers with >= 5 followers this still leaves us with a 15.9k x 26.7k matrix. Ideally we want more users than items for collaborative filtering to work well. We will later solve this issue by taking only streamers that fall into the top 2k (as determined in the next section).\n",
    "  - This method will result in 15.9k x 2k matrix with 288k non-null entries (0.9% full), which is more far more suitable for model building."
   ]
  }
 ],
 "metadata": {
  "kernelspec": {
   "display_name": "Python 3",
   "language": "python",
   "name": "python3"
  },
  "language_info": {
   "codemirror_mode": {
    "name": "ipython",
    "version": 3
   },
   "file_extension": ".py",
   "mimetype": "text/x-python",
   "name": "python",
   "nbconvert_exporter": "python",
   "pygments_lexer": "ipython3",
   "version": "3.7.6"
  }
 },
 "nbformat": 4,
 "nbformat_minor": 4
}
